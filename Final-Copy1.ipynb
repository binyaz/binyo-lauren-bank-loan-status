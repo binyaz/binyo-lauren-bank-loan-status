{
 "cells": [
  {
   "cell_type": "code",
   "execution_count": 1,
   "metadata": {},
   "outputs": [],
   "source": [
    "# import packages\n",
    "import pandas as pd\n",
    "import numpy as np\n",
    "import matplotlib.pyplot as plt\n",
    "import seaborn as sns"
   ]
  },
  {
   "cell_type": "code",
   "execution_count": 2,
   "metadata": {},
   "outputs": [],
   "source": [
    "# read in data\n",
    "train = pd.read_csv('credit_train.csv')\n",
    "test = pd.read_csv('credit_test.csv')"
   ]
  },
  {
   "cell_type": "code",
   "execution_count": 3,
   "metadata": {},
   "outputs": [
    {
     "name": "stdout",
     "output_type": "stream",
     "text": [
      "<class 'pandas.core.frame.DataFrame'>\n",
      "RangeIndex: 100514 entries, 0 to 100513\n",
      "Data columns (total 19 columns):\n",
      " #   Column                        Non-Null Count   Dtype  \n",
      "---  ------                        --------------   -----  \n",
      " 0   Loan ID                       100000 non-null  object \n",
      " 1   Customer ID                   100000 non-null  object \n",
      " 2   Loan Status                   100000 non-null  object \n",
      " 3   Current Loan Amount           100000 non-null  float64\n",
      " 4   Term                          100000 non-null  object \n",
      " 5   Credit Score                  80846 non-null   float64\n",
      " 6   Annual Income                 80846 non-null   float64\n",
      " 7   Years in current job          95778 non-null   object \n",
      " 8   Home Ownership                100000 non-null  object \n",
      " 9   Purpose                       100000 non-null  object \n",
      " 10  Monthly Debt                  100000 non-null  float64\n",
      " 11  Years of Credit History       100000 non-null  float64\n",
      " 12  Months since last delinquent  46859 non-null   float64\n",
      " 13  Number of Open Accounts       100000 non-null  float64\n",
      " 14  Number of Credit Problems     100000 non-null  float64\n",
      " 15  Current Credit Balance        100000 non-null  float64\n",
      " 16  Maximum Open Credit           99998 non-null   float64\n",
      " 17  Bankruptcies                  99796 non-null   float64\n",
      " 18  Tax Liens                     99990 non-null   float64\n",
      "dtypes: float64(12), object(7)\n",
      "memory usage: 14.6+ MB\n"
     ]
    }
   ],
   "source": [
    "# overview of the data\n",
    "train.info()"
   ]
  },
  {
   "cell_type": "code",
   "execution_count": 4,
   "metadata": {},
   "outputs": [
    {
     "name": "stdout",
     "output_type": "stream",
     "text": [
      "<class 'pandas.core.frame.DataFrame'>\n",
      "RangeIndex: 10353 entries, 0 to 10352\n",
      "Data columns (total 18 columns):\n",
      " #   Column                        Non-Null Count  Dtype  \n",
      "---  ------                        --------------  -----  \n",
      " 0   Loan ID                       10000 non-null  object \n",
      " 1   Customer ID                   10000 non-null  object \n",
      " 2   Current Loan Amount           10000 non-null  float64\n",
      " 3   Term                          10000 non-null  object \n",
      " 4   Credit Score                  8019 non-null   float64\n",
      " 5   Annual Income                 8019 non-null   float64\n",
      " 6   Years in current job          9573 non-null   object \n",
      " 7   Home Ownership                10000 non-null  object \n",
      " 8   Purpose                       10000 non-null  object \n",
      " 9   Monthly Debt                  10000 non-null  float64\n",
      " 10  Years of Credit History       10000 non-null  float64\n",
      " 11  Months since last delinquent  4694 non-null   float64\n",
      " 12  Number of Open Accounts       10000 non-null  float64\n",
      " 13  Number of Credit Problems     10000 non-null  float64\n",
      " 14  Current Credit Balance        10000 non-null  float64\n",
      " 15  Maximum Open Credit           10000 non-null  float64\n",
      " 16  Bankruptcies                  9978 non-null   float64\n",
      " 17  Tax Liens                     9999 non-null   float64\n",
      "dtypes: float64(12), object(6)\n",
      "memory usage: 1.4+ MB\n"
     ]
    }
   ],
   "source": [
    "# overview of the data\n",
    "test.info()"
   ]
  },
  {
   "cell_type": "code",
   "execution_count": 5,
   "metadata": {},
   "outputs": [
    {
     "data": {
      "text/html": [
       "<div>\n",
       "<style scoped>\n",
       "    .dataframe tbody tr th:only-of-type {\n",
       "        vertical-align: middle;\n",
       "    }\n",
       "\n",
       "    .dataframe tbody tr th {\n",
       "        vertical-align: top;\n",
       "    }\n",
       "\n",
       "    .dataframe thead th {\n",
       "        text-align: right;\n",
       "    }\n",
       "</style>\n",
       "<table border=\"1\" class=\"dataframe\">\n",
       "  <thead>\n",
       "    <tr style=\"text-align: right;\">\n",
       "      <th></th>\n",
       "      <th>Loan ID</th>\n",
       "      <th>Customer ID</th>\n",
       "      <th>Loan Status</th>\n",
       "      <th>Current Loan Amount</th>\n",
       "      <th>Term</th>\n",
       "      <th>Credit Score</th>\n",
       "      <th>Annual Income</th>\n",
       "      <th>Years in current job</th>\n",
       "      <th>Home Ownership</th>\n",
       "      <th>Purpose</th>\n",
       "      <th>Monthly Debt</th>\n",
       "      <th>Years of Credit History</th>\n",
       "      <th>Months since last delinquent</th>\n",
       "      <th>Number of Open Accounts</th>\n",
       "      <th>Number of Credit Problems</th>\n",
       "      <th>Current Credit Balance</th>\n",
       "      <th>Maximum Open Credit</th>\n",
       "      <th>Bankruptcies</th>\n",
       "      <th>Tax Liens</th>\n",
       "    </tr>\n",
       "  </thead>\n",
       "  <tbody>\n",
       "    <tr>\n",
       "      <th>0</th>\n",
       "      <td>14dd8831-6af5-400b-83ec-68e61888a048</td>\n",
       "      <td>981165ec-3274-42f5-a3b4-d104041a9ca9</td>\n",
       "      <td>Fully Paid</td>\n",
       "      <td>445412.0</td>\n",
       "      <td>Short Term</td>\n",
       "      <td>709.0</td>\n",
       "      <td>1167493.0</td>\n",
       "      <td>8 years</td>\n",
       "      <td>Home Mortgage</td>\n",
       "      <td>Home Improvements</td>\n",
       "      <td>5214.74</td>\n",
       "      <td>17.2</td>\n",
       "      <td>NaN</td>\n",
       "      <td>6.0</td>\n",
       "      <td>1.0</td>\n",
       "      <td>228190.0</td>\n",
       "      <td>416746.0</td>\n",
       "      <td>1.0</td>\n",
       "      <td>0.0</td>\n",
       "    </tr>\n",
       "    <tr>\n",
       "      <th>1</th>\n",
       "      <td>4771cc26-131a-45db-b5aa-537ea4ba5342</td>\n",
       "      <td>2de017a3-2e01-49cb-a581-08169e83be29</td>\n",
       "      <td>Fully Paid</td>\n",
       "      <td>262328.0</td>\n",
       "      <td>Short Term</td>\n",
       "      <td>NaN</td>\n",
       "      <td>NaN</td>\n",
       "      <td>10+ years</td>\n",
       "      <td>Home Mortgage</td>\n",
       "      <td>Debt Consolidation</td>\n",
       "      <td>33295.98</td>\n",
       "      <td>21.1</td>\n",
       "      <td>8.0</td>\n",
       "      <td>35.0</td>\n",
       "      <td>0.0</td>\n",
       "      <td>229976.0</td>\n",
       "      <td>850784.0</td>\n",
       "      <td>0.0</td>\n",
       "      <td>0.0</td>\n",
       "    </tr>\n",
       "    <tr>\n",
       "      <th>2</th>\n",
       "      <td>4eed4e6a-aa2f-4c91-8651-ce984ee8fb26</td>\n",
       "      <td>5efb2b2b-bf11-4dfd-a572-3761a2694725</td>\n",
       "      <td>Fully Paid</td>\n",
       "      <td>99999999.0</td>\n",
       "      <td>Short Term</td>\n",
       "      <td>741.0</td>\n",
       "      <td>2231892.0</td>\n",
       "      <td>8 years</td>\n",
       "      <td>Own Home</td>\n",
       "      <td>Debt Consolidation</td>\n",
       "      <td>29200.53</td>\n",
       "      <td>14.9</td>\n",
       "      <td>29.0</td>\n",
       "      <td>18.0</td>\n",
       "      <td>1.0</td>\n",
       "      <td>297996.0</td>\n",
       "      <td>750090.0</td>\n",
       "      <td>0.0</td>\n",
       "      <td>0.0</td>\n",
       "    </tr>\n",
       "    <tr>\n",
       "      <th>3</th>\n",
       "      <td>77598f7b-32e7-4e3b-a6e5-06ba0d98fe8a</td>\n",
       "      <td>e777faab-98ae-45af-9a86-7ce5b33b1011</td>\n",
       "      <td>Fully Paid</td>\n",
       "      <td>347666.0</td>\n",
       "      <td>Long Term</td>\n",
       "      <td>721.0</td>\n",
       "      <td>806949.0</td>\n",
       "      <td>3 years</td>\n",
       "      <td>Own Home</td>\n",
       "      <td>Debt Consolidation</td>\n",
       "      <td>8741.90</td>\n",
       "      <td>12.0</td>\n",
       "      <td>NaN</td>\n",
       "      <td>9.0</td>\n",
       "      <td>0.0</td>\n",
       "      <td>256329.0</td>\n",
       "      <td>386958.0</td>\n",
       "      <td>0.0</td>\n",
       "      <td>0.0</td>\n",
       "    </tr>\n",
       "    <tr>\n",
       "      <th>4</th>\n",
       "      <td>d4062e70-befa-4995-8643-a0de73938182</td>\n",
       "      <td>81536ad9-5ccf-4eb8-befb-47a4d608658e</td>\n",
       "      <td>Fully Paid</td>\n",
       "      <td>176220.0</td>\n",
       "      <td>Short Term</td>\n",
       "      <td>NaN</td>\n",
       "      <td>NaN</td>\n",
       "      <td>5 years</td>\n",
       "      <td>Rent</td>\n",
       "      <td>Debt Consolidation</td>\n",
       "      <td>20639.70</td>\n",
       "      <td>6.1</td>\n",
       "      <td>NaN</td>\n",
       "      <td>15.0</td>\n",
       "      <td>0.0</td>\n",
       "      <td>253460.0</td>\n",
       "      <td>427174.0</td>\n",
       "      <td>0.0</td>\n",
       "      <td>0.0</td>\n",
       "    </tr>\n",
       "  </tbody>\n",
       "</table>\n",
       "</div>"
      ],
      "text/plain": [
       "                                Loan ID                           Customer ID  \\\n",
       "0  14dd8831-6af5-400b-83ec-68e61888a048  981165ec-3274-42f5-a3b4-d104041a9ca9   \n",
       "1  4771cc26-131a-45db-b5aa-537ea4ba5342  2de017a3-2e01-49cb-a581-08169e83be29   \n",
       "2  4eed4e6a-aa2f-4c91-8651-ce984ee8fb26  5efb2b2b-bf11-4dfd-a572-3761a2694725   \n",
       "3  77598f7b-32e7-4e3b-a6e5-06ba0d98fe8a  e777faab-98ae-45af-9a86-7ce5b33b1011   \n",
       "4  d4062e70-befa-4995-8643-a0de73938182  81536ad9-5ccf-4eb8-befb-47a4d608658e   \n",
       "\n",
       "  Loan Status  Current Loan Amount        Term  Credit Score  Annual Income  \\\n",
       "0  Fully Paid             445412.0  Short Term         709.0      1167493.0   \n",
       "1  Fully Paid             262328.0  Short Term           NaN            NaN   \n",
       "2  Fully Paid           99999999.0  Short Term         741.0      2231892.0   \n",
       "3  Fully Paid             347666.0   Long Term         721.0       806949.0   \n",
       "4  Fully Paid             176220.0  Short Term           NaN            NaN   \n",
       "\n",
       "  Years in current job Home Ownership             Purpose  Monthly Debt  \\\n",
       "0              8 years  Home Mortgage   Home Improvements       5214.74   \n",
       "1            10+ years  Home Mortgage  Debt Consolidation      33295.98   \n",
       "2              8 years       Own Home  Debt Consolidation      29200.53   \n",
       "3              3 years       Own Home  Debt Consolidation       8741.90   \n",
       "4              5 years           Rent  Debt Consolidation      20639.70   \n",
       "\n",
       "   Years of Credit History  Months since last delinquent  \\\n",
       "0                     17.2                           NaN   \n",
       "1                     21.1                           8.0   \n",
       "2                     14.9                          29.0   \n",
       "3                     12.0                           NaN   \n",
       "4                      6.1                           NaN   \n",
       "\n",
       "   Number of Open Accounts  Number of Credit Problems  Current Credit Balance  \\\n",
       "0                      6.0                        1.0                228190.0   \n",
       "1                     35.0                        0.0                229976.0   \n",
       "2                     18.0                        1.0                297996.0   \n",
       "3                      9.0                        0.0                256329.0   \n",
       "4                     15.0                        0.0                253460.0   \n",
       "\n",
       "   Maximum Open Credit  Bankruptcies  Tax Liens  \n",
       "0             416746.0           1.0        0.0  \n",
       "1             850784.0           0.0        0.0  \n",
       "2             750090.0           0.0        0.0  \n",
       "3             386958.0           0.0        0.0  \n",
       "4             427174.0           0.0        0.0  "
      ]
     },
     "execution_count": 5,
     "metadata": {},
     "output_type": "execute_result"
    }
   ],
   "source": [
    "# overview of the data\n",
    "train.head()"
   ]
  },
  {
   "cell_type": "code",
   "execution_count": 6,
   "metadata": {},
   "outputs": [
    {
     "data": {
      "text/plain": [
       "Fully Paid     77361\n",
       "Charged Off    22639\n",
       "NaN              514\n",
       "Name: Loan Status, dtype: int64"
      ]
     },
     "execution_count": 6,
     "metadata": {},
     "output_type": "execute_result"
    }
   ],
   "source": [
    "# inspect target variable\n",
    "train['Loan Status'].value_counts(dropna=False)"
   ]
  },
  {
   "cell_type": "code",
   "execution_count": 7,
   "metadata": {
    "scrolled": true
   },
   "outputs": [
    {
     "data": {
      "text/plain": [
       "Loan ID                           514\n",
       "Customer ID                       514\n",
       "Loan Status                       514\n",
       "Current Loan Amount               514\n",
       "Term                              514\n",
       "Credit Score                    19668\n",
       "Annual Income                   19668\n",
       "Years in current job             4736\n",
       "Home Ownership                    514\n",
       "Purpose                           514\n",
       "Monthly Debt                      514\n",
       "Years of Credit History           514\n",
       "Months since last delinquent    53655\n",
       "Number of Open Accounts           514\n",
       "Number of Credit Problems         514\n",
       "Current Credit Balance            514\n",
       "Maximum Open Credit               516\n",
       "Bankruptcies                      718\n",
       "Tax Liens                         524\n",
       "dtype: int64"
      ]
     },
     "execution_count": 7,
     "metadata": {},
     "output_type": "execute_result"
    }
   ],
   "source": [
    "# check for missing values\n",
    "train.isna().sum()"
   ]
  },
  {
   "cell_type": "code",
   "execution_count": 8,
   "metadata": {},
   "outputs": [
    {
     "data": {
      "text/plain": [
       "<matplotlib.axes._subplots.AxesSubplot at 0x7fbc64107150>"
      ]
     },
     "execution_count": 8,
     "metadata": {},
     "output_type": "execute_result"
    },
    {
     "data": {
      "image/png": "[encoded data removed]",
      "text/plain": [
       "<Figure size 432x288 with 1 Axes>"
      ]
     },
     "metadata": {
      "needs_background": "light"
     },
     "output_type": "display_data"
    }
   ],
   "source": [
    "# visualize missing values \n",
    "sns.heatmap(train.isnull(),cbar=False)"
   ]
  },
  {
   "cell_type": "code",
   "execution_count": 9,
   "metadata": {},
   "outputs": [],
   "source": [
    "# drop empty observations\n",
    "train.dropna(how='all', inplace=True)"
   ]
  },
  {
   "cell_type": "code",
   "execution_count": 10,
   "metadata": {},
   "outputs": [
    {
     "data": {
      "text/plain": [
       "Loan ID                             0\n",
       "Customer ID                         0\n",
       "Loan Status                         0\n",
       "Current Loan Amount                 0\n",
       "Term                                0\n",
       "Credit Score                    19154\n",
       "Annual Income                   19154\n",
       "Years in current job             4222\n",
       "Home Ownership                      0\n",
       "Purpose                             0\n",
       "Monthly Debt                        0\n",
       "Years of Credit History             0\n",
       "Months since last delinquent    53141\n",
       "Number of Open Accounts             0\n",
       "Number of Credit Problems           0\n",
       "Current Credit Balance              0\n",
       "Maximum Open Credit                 2\n",
       "Bankruptcies                      204\n",
       "Tax Liens                          10\n",
       "dtype: int64"
      ]
     },
     "execution_count": 10,
     "metadata": {},
     "output_type": "execute_result"
    }
   ],
   "source": [
    "# inspect what was droped\n",
    "train.isna().sum()"
   ]
  },
  {
   "cell_type": "code",
   "execution_count": 11,
   "metadata": {},
   "outputs": [
    {
     "data": {
      "text/plain": [
       "Short Term    72208\n",
       "Long Term     27792\n",
       "Name: Term, dtype: int64"
      ]
     },
     "execution_count": 11,
     "metadata": {},
     "output_type": "execute_result"
    }
   ],
   "source": [
    "# went through all value counts\n",
    "train['Term'].value_counts(dropna=False)"
   ]
  },
  {
   "cell_type": "code",
   "execution_count": 12,
   "metadata": {},
   "outputs": [],
   "source": [
    "# convert target to binary\n",
    "train['Loan Status'] = np.where(train['Loan Status']=='Fully Paid', 0, 1)"
   ]
  },
  {
   "cell_type": "code",
   "execution_count": 13,
   "metadata": {},
   "outputs": [],
   "source": [
    "# convert to binary\n",
    "train['Term'] = np.where(train['Term']=='Fully Paid', 0, 1)"
   ]
  },
  {
   "cell_type": "code",
   "execution_count": 14,
   "metadata": {},
   "outputs": [],
   "source": [
    "# filling nan values\n",
    "train['Months since last delinquent'] = np.where((train['Months since last delinquent'].isna() == True),0,train['Months since last delinquent'])\n",
    "# train['Annual Income'] = np.where((train['Annual Income'].isna() == True),0,train['Annual Income'])\n",
    "# train['Credit Score'] = np.where((train['Credit Score'].isna() == True),0,train['Credit Score'])"
   ]
  },
  {
   "cell_type": "code",
   "execution_count": 15,
   "metadata": {},
   "outputs": [],
   "source": [
    "# subclass of people  had an abnormally high credit score (>850) and 100% default rate\n",
    "# we decided to divide these values by 10 since this issue was skewing our data\n",
    "\n",
    "# dividing credit score values by 10 if they are > 850 \n",
    "train['Credit Score'] = np.where(train['Credit Score']>850, train['Credit Score']/10, train['Credit Score'])"
   ]
  },
  {
   "cell_type": "code",
   "execution_count": 16,
   "metadata": {},
   "outputs": [],
   "source": [
    "# convert values to numbers for modeling\n",
    "\n",
    "input_ = {'Home Mortgage':1,\n",
    "'Rent':2,\n",
    "'Own Home':3,\n",
    "'HaveMortgage':4}\n",
    "train['Home Ownership'] = train['Home Ownership'].map(input_)"
   ]
  },
  {
   "cell_type": "code",
   "execution_count": 17,
   "metadata": {},
   "outputs": [],
   "source": [
    "# convert values to numbers for modeling\n",
    "\n",
    "input_ = {'Debt Consolidation':1,'other':4,'Home Improvements':3,'Other':4,\n",
    "'Business Loan':5,\n",
    "'Buy a Car':6,\n",
    "'Medical Bills':7,\n",
    "'Buy House':8,\n",
    "'Take a Trip':9,\n",
    "'major_purchase':10,\n",
    "'small_business':11,\n",
    "'moving':12,\n",
    "'wedding':13,\n",
    "'vacation':14,\n",
    "'Educational Expenses':15,\n",
    "'renewable_energy':16}\n",
    "train['Purpose'] = train['Purpose'].map(input_)"
   ]
  },
  {
   "cell_type": "code",
   "execution_count": 18,
   "metadata": {},
   "outputs": [
    {
     "data": {
      "text/plain": [
       "<matplotlib.axes._subplots.AxesSubplot at 0x7fbc49eeeed0>"
      ]
     },
     "execution_count": 18,
     "metadata": {},
     "output_type": "execute_result"
    },
    {
     "data": {
      "image/png": "[encoded data removed]",
      "text/plain": [
       "<Figure size 432x288 with 1 Axes>"
      ]
     },
     "metadata": {
      "needs_background": "light"
     },
     "output_type": "display_data"
    }
   ],
   "source": [
    "# how does Annual income look before inputing years in current job\n",
    "\n",
    "x = train.groupby(['Years in current job'])['Annual Income'].mean()\n",
    "sns.barplot(x.index, x)"
   ]
  },
  {
   "cell_type": "code",
   "execution_count": 19,
   "metadata": {},
   "outputs": [],
   "source": [
    "# input missing values for years in current job based on years of credit history\n",
    "\n",
    "train['ych_range'] = pd.qcut(train['Years of Credit History'],5, labels=['one','two','three','four','five'])\n",
    "\n",
    "train['Years in current job'] = np.where(train['Years in current job'].isna()==True, train['ych_range'], train['Years in current job'])\n",
    "\n",
    "input_ = {'10+ years':10, '2 years':2, '3 years':3, '< 1 year':0, '5 years':5, '1 year':1, '4 years':4,\n",
    "          '6 years':6, '7 years':7, '8 years':8, '9 years':9, 'one':4, 'two':5, 'three':6, 'four':6, 'five':7}\n",
    "\n",
    "train['Years in current job'] = train['Years in current job'].map(input_)"
   ]
  },
  {
   "cell_type": "code",
   "execution_count": 20,
   "metadata": {
    "scrolled": true
   },
   "outputs": [
    {
     "data": {
      "text/plain": [
       "10    31121\n",
       "2      9134\n",
       "3      8169\n",
       "0      8164\n",
       "5      7379\n",
       "7      7232\n",
       "6      7171\n",
       "4      6633\n",
       "1      6460\n",
       "8      4582\n",
       "9      3955\n",
       "Name: Years in current job, dtype: int64"
      ]
     },
     "execution_count": 20,
     "metadata": {},
     "output_type": "execute_result"
    }
   ],
   "source": [
    "# verify the change\n",
    "\n",
    "train['Years in current job'].value_counts(dropna=False)"
   ]
  },
  {
   "cell_type": "code",
   "execution_count": 21,
   "metadata": {},
   "outputs": [],
   "source": [
    "# drop all remaining missing values\n",
    "\n",
    "df = train.dropna()"
   ]
  },
  {
   "cell_type": "code",
   "execution_count": 22,
   "metadata": {},
   "outputs": [
    {
     "data": {
      "image/png": "[encoded data removed]",
      "text/plain": [
       "<Figure size 720x432 with 1 Axes>"
      ]
     },
     "metadata": {
      "needs_background": "light"
     },
     "output_type": "display_data"
    }
   ],
   "source": [
    "plt.figure(figsize = (10,6))\n",
    "y = [(77207/len(df)),(22587/len(df))]\n",
    "x_labels = ['Paid','Defaulted']\n",
    "sns.barplot(x_labels,y)\n",
    "sns.set(style='dark')\n",
    "plt.xlabel('Loan Status');\n",
    "plt.ylabel('% of People')\n",
    "plt.title('Loan Status Ratio', fontsize=18);"
   ]
  },
  {
   "cell_type": "code",
   "execution_count": 43,
   "metadata": {},
   "outputs": [
    {
     "name": "stderr",
     "output_type": "stream",
     "text": [
      "/Users/binyaminzaetz/opt/anaconda3/lib/python3.7/site-packages/ipykernel_launcher.py:1: SettingWithCopyWarning: \n",
      "A value is trying to be set on a copy of a slice from a DataFrame.\n",
      "Try using .loc[row_indexer,col_indexer] = value instead\n",
      "\n",
      "See the caveats in the documentation: https://pandas.pydata.org/pandas-docs/stable/user_guide/indexing.html#returning-a-view-versus-a-copy\n",
      "  \"\"\"Entry point for launching an IPython kernel.\n"
     ]
    },
    {
     "data": {
      "image/png": "[encoded data removed]",
      "text/plain": [
       "<Figure size 720x432 with 1 Axes>"
      ]
     },
     "metadata": {},
     "output_type": "display_data"
    }
   ],
   "source": [
    "df['Income_Category'] = pd.qcut(df['Annual Income'],5, labels=[1,2,3,4,5])\n",
    "\n",
    "df.groupby(['Income_Category'])['Loan Status'].mean()\n",
    "\n",
    "y = df.groupby(['Income_Category'])['Loan Status'].mean()\n",
    "plt.figure(figsize = (10,6))\n",
    "sns.barplot(y.index,y)\n",
    "sns.set(style='dark')\n",
    "plt.xlabel('Income Categories');\n",
    "plt.ylabel('Loan Status Ratio')\n",
    "plt.title('Loan Status by Income Categories', fontsize=18);"
   ]
  },
  {
   "cell_type": "code",
   "execution_count": 24,
   "metadata": {},
   "outputs": [],
   "source": [
    "# H0: there is no significant difference in loan status between income categories \n",
    "# H1: there is a significant difference in loan status between income categories "
   ]
  },
  {
   "cell_type": "code",
   "execution_count": 25,
   "metadata": {},
   "outputs": [],
   "source": [
    "income1 = df[df['Income_Category']=='One']\n",
    "income2 = df[df['Income_Category']=='Two']\n",
    "income3 = df[df['Income_Category']=='Three']\n",
    "income4 = df[df['Income_Category']=='Four'] \n",
    "income5 = df[df['Income_Category']=='Five']\n",
    "\n",
    "df_freq2=pd.DataFrame(columns=['one', 'two', 'three', 'four','five'])\n",
    "df_freq2['one']= income1.groupby('Loan Status')['Loan Status'].count()\n",
    "df_freq2['two']= income2.groupby('Loan Status')['Loan Status'].count()\n",
    "df_freq2['three']= income3.groupby('Loan Status')['Loan Status'].count()\n",
    "df_freq2['four']= income4.groupby('Loan Status')['Loan Status'].count()\n",
    "df_freq2['five']= income5.groupby('Loan Status')['Loan Status'].count()"
   ]
  },
  {
   "cell_type": "code",
   "execution_count": 26,
   "metadata": {},
   "outputs": [
    {
     "name": "stdout",
     "output_type": "stream",
     "text": [
      "               one    two  three   four   five\n",
      "Loan Status                                   \n",
      "0            11894  12364  12637  13103  13514\n",
      "1             4247   3772   3496   3033   2623\n",
      "dof=4\n",
      "[[12705.8635896  12701.92769233 12699.56615396 12701.92769233\n",
      "  12702.71487178]\n",
      " [ 3435.1364104   3434.07230767  3433.43384604  3434.07230767\n",
      "   3434.28512822]]\n",
      "probability=0.950, critical=9.488, stat=590.416)\n",
      "Dependent (regject H0)\n",
      "signigicance=0.050, p=0.000,\n",
      "Dependent (reject H0)\n"
     ]
    }
   ],
   "source": [
    "from scipy.stats import chi2_contingency\n",
    "from scipy.stats import chi2\n",
    "# contingency table\n",
    "table = df_freq2\n",
    "print(table)\n",
    "stat, p, dof, expected = chi2_contingency(df_freq2)\n",
    "print('dof=%d' % dof)\n",
    "print(expected)\n",
    "#interpret test-statistic\n",
    "prob = 0.95\n",
    "critical = chi2.ppf(prob, dof)\n",
    "print('probability=%.3f, critical=%.3f, stat=%.3f)' % (prob, critical, stat))\n",
    "if abs(stat) >= critical:\n",
    "    print('Dependent (regject H0)')\n",
    "else:\n",
    "    print('Independent (fail to reject H0)')\n",
    "#interpret p-value\n",
    "alpha= 1-prob\n",
    "print('signigicance=%.3f, p=%.3f,' % (alpha, p))\n",
    "if p <= alpha:\n",
    "    print('Dependent (reject H0)')\n",
    "else: \n",
    "    print('Independent (fail to reject)')"
   ]
  },
  {
   "cell_type": "code",
   "execution_count": 27,
   "metadata": {},
   "outputs": [
    {
     "data": {
      "image/png": "[encoded data removed]",
      "text/plain": [
       "<Figure size 720x432 with 1 Axes>"
      ]
     },
     "metadata": {},
     "output_type": "display_data"
    }
   ],
   "source": [
    "plt.figure(figsize = (10,6))\n",
    "y = df.groupby(['Home Ownership'])['Loan Status'].mean()\n",
    "labels = ['Rent','Mortgage','Own Home','HaveMortgage']\n",
    "sns.barplot(labels,y)\n",
    "sns.set(style='dark')\n",
    "plt.xlabel('Home Ownership');\n",
    "plt.ylabel('Loan Status Ratio')\n",
    "plt.title('Loan Status by Home Ownership Categories', fontsize=18);"
   ]
  },
  {
   "cell_type": "code",
   "execution_count": 28,
   "metadata": {},
   "outputs": [
    {
     "data": {
      "image/png": "[encoded data removed]",
      "text/plain": [
       "<Figure size 720x432 with 1 Axes>"
      ]
     },
     "metadata": {},
     "output_type": "display_data"
    }
   ],
   "source": [
    "y = df.groupby(['Purpose'])['Loan Status'].mean()\n",
    "plt.figure(figsize = (10,6))\n",
    "sns.barplot(y.index,y)\n",
    "sns.set(style='dark')\n",
    "plt.xlabel('Purpose of Loan')\n",
    "degrees = 70\n",
    "plt.xticks(rotation=degrees)\n",
    "plt.ylabel('Loan Status Ratio')\n",
    "plt.title('Loan Status by Purpose of Loan', fontsize=18);"
   ]
  },
  {
   "cell_type": "code",
   "execution_count": 29,
   "metadata": {},
   "outputs": [
    {
     "name": "stderr",
     "output_type": "stream",
     "text": [
      "/Users/binyaminzaetz/opt/anaconda3/lib/python3.7/site-packages/ipykernel_launcher.py:1: SettingWithCopyWarning: \n",
      "A value is trying to be set on a copy of a slice from a DataFrame.\n",
      "Try using .loc[row_indexer,col_indexer] = value instead\n",
      "\n",
      "See the caveats in the documentation: https://pandas.pydata.org/pandas-docs/stable/user_guide/indexing.html#returning-a-view-versus-a-copy\n",
      "  \"\"\"Entry point for launching an IPython kernel.\n"
     ]
    },
    {
     "data": {
      "image/png": "[encoded data removed]",
      "text/plain": [
       "<Figure size 720x432 with 1 Axes>"
      ]
     },
     "metadata": {},
     "output_type": "display_data"
    }
   ],
   "source": [
    "df['Number of Credit Problems'] = np.where(df['Number of Credit Problems']>=3.0,3.0,df['Number of Credit Problems'])\n",
    "\n",
    "df.groupby(['Number of Credit Problems'])['Loan Status'].mean()\n",
    "\n",
    "y = df.groupby(['Number of Credit Problems'])['Loan Status'].mean()\n",
    "labels = ['0','1','2','> 3']\n",
    "plt.figure(figsize = (10,6))\n",
    "sns.barplot(labels,y)\n",
    "sns.set(style='dark')\n",
    "plt.xlabel('# of Credit Problems');\n",
    "plt.ylabel('Loan Status Ratio')\n",
    "plt.title('Loan Status by Credit Problems', fontsize=18);"
   ]
  },
  {
   "cell_type": "code",
   "execution_count": 30,
   "metadata": {},
   "outputs": [],
   "source": [
    "# H0: there is no significant difference in loan status between credit problem categories\n",
    "# H1: there is a significant different in loan status between credit problem categories"
   ]
  },
  {
   "cell_type": "code",
   "execution_count": 31,
   "metadata": {},
   "outputs": [
    {
     "name": "stderr",
     "output_type": "stream",
     "text": [
      "/Users/binyaminzaetz/opt/anaconda3/lib/python3.7/site-packages/ipykernel_launcher.py:1: SettingWithCopyWarning: \n",
      "A value is trying to be set on a copy of a slice from a DataFrame.\n",
      "Try using .loc[row_indexer,col_indexer] = value instead\n",
      "\n",
      "See the caveats in the documentation: https://pandas.pydata.org/pandas-docs/stable/user_guide/indexing.html#returning-a-view-versus-a-copy\n",
      "  \"\"\"Entry point for launching an IPython kernel.\n"
     ]
    }
   ],
   "source": [
    "df['Number of Credit Problems'] = df['Number of Credit Problems'].astype(int)\n",
    "\n",
    "credit0 = df[df['Number of Credit Problems']==0]\n",
    "credit1 = df[df['Number of Credit Problems']==1]\n",
    "credit2 = df[df['Number of Credit Problems']==2]\n",
    "credit3 = df[df['Number of Credit Problems']==3] \n",
    "\n",
    "df_freq3=pd.DataFrame(columns=['zero', 'one', 'two', 'three'])\n",
    "df_freq3['zero']= credit0.groupby('Loan Status')['Loan Status'].count()\n",
    "df_freq3['one']= credit1.groupby('Loan Status')['Loan Status'].count()\n",
    "df_freq3['two']= credit2.groupby('Loan Status')['Loan Status'].count()\n",
    "df_freq3['three']= credit3.groupby('Loan Status')['Loan Status'].count()"
   ]
  },
  {
   "cell_type": "code",
   "execution_count": 32,
   "metadata": {},
   "outputs": [
    {
     "name": "stdout",
     "output_type": "stream",
     "text": [
      "              zero   one  two  three\n",
      "Loan Status                         \n",
      "0            54508  7808  822    374\n",
      "1            14800  2022  238    111\n",
      "dof=3\n",
      "[[54557.83369483  7737.97404658   834.41022272   381.78203587]\n",
      " [14750.16630517  2092.02595342   225.58977728   103.21796413]]\n",
      "probability=0.950, critical=7.815, stat=4.804)\n",
      "Independent (fail to reject H0)\n",
      "signigicance=0.050, p=0.187,\n",
      "Independent (fail to reject)\n"
     ]
    }
   ],
   "source": [
    "from scipy.stats import chi2_contingency\n",
    "from scipy.stats import chi2\n",
    "# contingency table\n",
    "table = df_freq3\n",
    "print(table)\n",
    "stat, p, dof, expected = chi2_contingency(df_freq3)\n",
    "print('dof=%d' % dof)\n",
    "print(expected)\n",
    "#interpret test-statistic\n",
    "prob = 0.95\n",
    "critical = chi2.ppf(prob, dof)\n",
    "print('probability=%.3f, critical=%.3f, stat=%.3f)' % (prob, critical, stat))\n",
    "if abs(stat) >= critical:\n",
    "    print('Dependent (regject H0)')\n",
    "else:\n",
    "    print('Independent (fail to reject H0)')\n",
    "#interpret p-value\n",
    "alpha= 1-prob\n",
    "print('signigicance=%.3f, p=%.3f,' % (alpha, p))\n",
    "if p <= alpha:\n",
    "    print('Dependent (reject H0)')\n",
    "else: \n",
    "    print('Independent (fail to reject)')"
   ]
  },
  {
   "cell_type": "code",
   "execution_count": 33,
   "metadata": {},
   "outputs": [],
   "source": [
    "y = df[df['Annual Income'] <= 150000000]\n",
    "x = y[(y[['Credit Score']]!= 0).all(axis=1)]"
   ]
  },
  {
   "cell_type": "code",
   "execution_count": 34,
   "metadata": {},
   "outputs": [
    {
     "data": {
      "image/png": "[encoded data removed]",
      "text/plain": [
       "<Figure size 432x288 with 1 Axes>"
      ]
     },
     "metadata": {},
     "output_type": "display_data"
    }
   ],
   "source": [
    "import matplotlib.pyplot as plt\n",
    "import numpy as np\n",
    "# Some example data to display\n",
    "fig, ax = plt.subplots()\n",
    "ax.scatter(x['Credit Score'], x['Annual Income'])\n",
    "ax.set_title('Credit Score vs. Income')\n",
    "ax.set_xlabel('Credit Score')\n",
    "ax.set_ylabel('Annual Income ($)')\n",
    "# set tick style\n",
    "ax.ticklabel_format(axis='y', style='plain')"
   ]
  },
  {
   "cell_type": "code",
   "execution_count": 35,
   "metadata": {},
   "outputs": [
    {
     "name": "stderr",
     "output_type": "stream",
     "text": [
      "/Users/binyaminzaetz/opt/anaconda3/lib/python3.7/site-packages/ipykernel_launcher.py:1: SettingWithCopyWarning: \n",
      "A value is trying to be set on a copy of a slice from a DataFrame.\n",
      "Try using .loc[row_indexer,col_indexer] = value instead\n",
      "\n",
      "See the caveats in the documentation: https://pandas.pydata.org/pandas-docs/stable/user_guide/indexing.html#returning-a-view-versus-a-copy\n",
      "  \"\"\"Entry point for launching an IPython kernel.\n",
      "/Users/binyaminzaetz/opt/anaconda3/lib/python3.7/site-packages/ipykernel_launcher.py:3: SettingWithCopyWarning: \n",
      "A value is trying to be set on a copy of a slice from a DataFrame.\n",
      "Try using .loc[row_indexer,col_indexer] = value instead\n",
      "\n",
      "See the caveats in the documentation: https://pandas.pydata.org/pandas-docs/stable/user_guide/indexing.html#returning-a-view-versus-a-copy\n",
      "  This is separate from the ipykernel package so we can avoid doing imports until\n"
     ]
    },
    {
     "data": {
      "image/png": "[encoded data removed]",
      "text/plain": [
       "<Figure size 720x432 with 1 Axes>"
      ]
     },
     "metadata": {},
     "output_type": "display_data"
    }
   ],
   "source": [
    "df['Credit Score'] = df['Credit Score'].astype(int)\n",
    "\n",
    "df['Credit_Category'] = np.where(df['Credit Score']<=675,1,2)\n",
    "\n",
    "y = df.groupby(['Credit_Category'])['Loan Status'].mean()\n",
    "labels = ['<= 675','> 675']\n",
    "plt.figure(figsize = (10,6))\n",
    "sns.barplot(labels,y)\n",
    "sns.set(style='dark')\n",
    "plt.xlabel('Credit Score');\n",
    "plt.ylabel('Loan Status Ratio')\n",
    "plt.title('Loan Status by Credit Score', fontsize=18);"
   ]
  },
  {
   "cell_type": "code",
   "execution_count": 36,
   "metadata": {},
   "outputs": [],
   "source": [
    "# H0: there is no significant difference in loan status between low and high credit score categories \n",
    "# H1: there is a significant difference in loan status between low and high credit score categories "
   ]
  },
  {
   "cell_type": "code",
   "execution_count": 37,
   "metadata": {},
   "outputs": [],
   "source": [
    "credit1 = df[df['Credit Score']<=675]\n",
    "credit2 = df[df['Credit Score']>675]\n",
    "\n",
    "df_freq4=pd.DataFrame(columns=['one', 'two'])\n",
    "df_freq4['one']= credit1.groupby('Loan Status')['Loan Status'].count()\n",
    "df_freq4['two']= credit2.groupby('Loan Status')['Loan Status'].count()"
   ]
  },
  {
   "cell_type": "code",
   "execution_count": 38,
   "metadata": {},
   "outputs": [
    {
     "name": "stdout",
     "output_type": "stream",
     "text": [
      "              one    two\n",
      "Loan Status             \n",
      "0            5078  58434\n",
      "1            2428  14743\n",
      "dof=1\n",
      "[[ 5908.56899223 57603.43100777]\n",
      " [ 1597.43100777 15573.56899223]]\n",
      "probability=0.950, critical=3.841, stat=604.143)\n",
      "Dependent (regject H0)\n",
      "signigicance=0.050, p=0.000,\n",
      "Dependent (reject H0)\n"
     ]
    }
   ],
   "source": [
    "from scipy.stats import chi2_contingency\n",
    "from scipy.stats import chi2\n",
    "# contingency table\n",
    "table = df_freq4\n",
    "print(table)\n",
    "stat, p, dof, expected = chi2_contingency(df_freq4)\n",
    "print('dof=%d' % dof)\n",
    "print(expected)\n",
    "#interpret test-statistic\n",
    "prob = 0.95\n",
    "critical = chi2.ppf(prob, dof)\n",
    "print('probability=%.3f, critical=%.3f, stat=%.3f)' % (prob, critical, stat))\n",
    "if abs(stat) >= critical:\n",
    "    print('Dependent (regject H0)')\n",
    "else:\n",
    "    print('Independent (fail to reject H0)')\n",
    "#interpret p-value\n",
    "alpha= 1-prob\n",
    "print('signigicance=%.3f, p=%.3f,' % (alpha, p))\n",
    "if p <= alpha:\n",
    "    print('Dependent (reject H0)')\n",
    "else: \n",
    "    print('Independent (fail to reject)')"
   ]
  },
  {
   "cell_type": "code",
   "execution_count": null,
   "metadata": {},
   "outputs": [],
   "source": []
  },
  {
   "cell_type": "code",
   "execution_count": null,
   "metadata": {},
   "outputs": [],
   "source": []
  },
  {
   "cell_type": "code",
   "execution_count": null,
   "metadata": {},
   "outputs": [],
   "source": []
  },
  {
   "cell_type": "code",
   "execution_count": null,
   "metadata": {},
   "outputs": [],
   "source": []
  },
  {
   "cell_type": "code",
   "execution_count": null,
   "metadata": {},
   "outputs": [],
   "source": []
  },
  {
   "cell_type": "code",
   "execution_count": null,
   "metadata": {},
   "outputs": [],
   "source": []
  },
  {
   "cell_type": "code",
   "execution_count": null,
   "metadata": {},
   "outputs": [],
   "source": []
  },
  {
   "cell_type": "code",
   "execution_count": null,
   "metadata": {},
   "outputs": [],
   "source": []
  },
  {
   "cell_type": "code",
   "execution_count": 39,
   "metadata": {},
   "outputs": [
    {
     "data": {
      "text/plain": [
       "(80683, 22)"
      ]
     },
     "execution_count": 39,
     "metadata": {},
     "output_type": "execute_result"
    }
   ],
   "source": [
    "# new shape\n",
    "df.shape"
   ]
  },
  {
   "cell_type": "code",
   "execution_count": 44,
   "metadata": {
    "scrolled": true
   },
   "outputs": [],
   "source": [
    "# preprocess for modeling\n",
    "\n",
    "X = df.drop(['Loan ID', 'Customer ID', 'Loan Status', 'ych_range'], axis=1)\n",
    "y = df['Loan Status']\n",
    "\n",
    "cat = ['Years in current job', 'Home Ownership', 'Purpose', 'Income_Category']\n",
    "con = [x for x in X.columns if x not in cat] "
   ]
  },
  {
   "cell_type": "code",
   "execution_count": 45,
   "metadata": {},
   "outputs": [],
   "source": [
    "# import modeling packages\n",
    "\n",
    "from sklearn.model_selection import train_test_split, GridSearchCV\n",
    "from sklearn.preprocessing import StandardScaler, OneHotEncoder\n",
    "from sklearn.compose import ColumnTransformer\n",
    "from sklearn.ensemble import BaggingClassifier, RandomForestClassifier, VotingClassifier\n",
    "from sklearn.linear_model import LogisticRegression\n",
    "from sklearn.tree import DecisionTreeClassifier, BaseDecisionTree\n",
    "from sklearn.metrics import accuracy_score, confusion_matrix, f1_score, recall_score, precision_score, plot_confusion_matrix"
   ]
  },
  {
   "cell_type": "code",
   "execution_count": 46,
   "metadata": {
    "scrolled": true
   },
   "outputs": [],
   "source": [
    "# split, scale and one hot encode data\n",
    "\n",
    "X_train, X_test, y_train, y_test = train_test_split(X, y, random_state = 4, test_size=0.25)\n",
    "\n",
    "ct = ColumnTransformer([('One_Hot_Encoder', OneHotEncoder(), cat),('scaler', StandardScaler(), con)], remainder='passthrough')\n",
    "X_train = ct.fit_transform(X_train)\n",
    "X_test = ct.transform(X_test)\n"
   ]
  },
  {
   "cell_type": "code",
   "execution_count": 48,
   "metadata": {
    "scrolled": false
   },
   "outputs": [
    {
     "name": "stdout",
     "output_type": "stream",
     "text": [
      "Fitting 5 folds for each of 40 candidates, totalling 200 fits\n"
     ]
    },
    {
     "name": "stderr",
     "output_type": "stream",
     "text": [
      "[Parallel(n_jobs=-2)]: Using backend LokyBackend with 11 concurrent workers.\n",
      "[Parallel(n_jobs=-2)]: Done   3 tasks      | elapsed:    2.3s\n",
      "[Parallel(n_jobs=-2)]: Done  10 tasks      | elapsed:    2.3s\n",
      "[Parallel(n_jobs=-2)]: Done  19 tasks      | elapsed:    3.5s\n",
      "[Parallel(n_jobs=-2)]: Done  28 tasks      | elapsed:    5.9s\n",
      "[Parallel(n_jobs=-2)]: Done  39 tasks      | elapsed:   21.1s\n",
      "[Parallel(n_jobs=-2)]: Done  50 tasks      | elapsed:   21.5s\n",
      "[Parallel(n_jobs=-2)]: Done  63 tasks      | elapsed:   25.6s\n",
      "[Parallel(n_jobs=-2)]: Done  76 tasks      | elapsed:   34.4s\n",
      "[Parallel(n_jobs=-2)]: Done  91 tasks      | elapsed:  1.2min\n",
      "[Parallel(n_jobs=-2)]: Done 106 tasks      | elapsed:  1.3min\n",
      "[Parallel(n_jobs=-2)]: Done 123 tasks      | elapsed:  1.7min\n",
      "[Parallel(n_jobs=-2)]: Done 140 tasks      | elapsed:  2.5min\n",
      "[Parallel(n_jobs=-2)]: Done 159 tasks      | elapsed:  2.7min\n",
      "[Parallel(n_jobs=-2)]: Done 178 tasks      | elapsed:  3.2min\n",
      "[Parallel(n_jobs=-2)]: Done 200 out of 200 | elapsed:  4.6min remaining:    0.0s\n",
      "[Parallel(n_jobs=-2)]: Done 200 out of 200 | elapsed:  4.6min finished\n"
     ]
    },
    {
     "name": "stdout",
     "output_type": "stream",
     "text": [
      "Training Precision:  0.2802775912245355\n",
      "Testing Precision:  0.2889229198570699\n",
      "\n",
      "\n",
      "\n",
      "Training Recall:  0.7823166445364368\n",
      "Testing Recall:  0.7774725274725275\n",
      "\n",
      "\n",
      "\n",
      "Training Accuracy:  0.528903358011634\n",
      "Testing Accuracy:  0.5374547617867235\n",
      "\n",
      "\n",
      "\n",
      "Training F1-Score:  0.4126990667298461\n",
      "Testing F1-Score:  0.4212876814291031\n"
     ]
    }
   ],
   "source": [
    "# run gridsearch on logreg model, print results\n",
    "\n",
    "lg = LogisticRegression(class_weight='balanced', random_state=2, n_jobs=-2, max_iter=1000)\n",
    "\n",
    "params = {'penalty':['l1', 'l2'],\n",
    "         'C':[.01, .1, .25, .5],\n",
    "         'solver':['newton-cg', 'lbfgs', 'liblinear', 'sag', 'saga']}\n",
    "\n",
    "gv_lg = GridSearchCV(lg, params, n_jobs=-2, cv=5, verbose =10)\n",
    "\n",
    "gv_lg.fit(X_train, y_train)\n",
    "y_train_pred = gv_lg.predict(X_train)\n",
    "y_test_pred = gv_lg.predict(X_test)\n",
    "\n",
    "print('Training Precision: ', precision_score(y_train, y_train_pred))\n",
    "print('Testing Precision: ', precision_score(y_test, y_test_pred))\n",
    "print('\\n\\n')\n",
    "\n",
    "print('Training Recall: ', recall_score(y_train, y_train_pred))\n",
    "print('Testing Recall: ', recall_score(y_test, y_test_pred))\n",
    "print('\\n\\n')\n",
    "\n",
    "print('Training Accuracy: ', accuracy_score(y_train, y_train_pred))\n",
    "print('Testing Accuracy: ', accuracy_score(y_test, y_test_pred))\n",
    "print('\\n\\n')\n",
    "\n",
    "print('Training F1-Score: ', f1_score(y_train, y_train_pred))\n",
    "print('Testing F1-Score: ', f1_score(y_test, y_test_pred))"
   ]
  },
  {
   "cell_type": "code",
   "execution_count": 49,
   "metadata": {},
   "outputs": [
    {
     "data": {
      "text/plain": [
       "{'C': 0.5, 'penalty': 'l2', 'solver': 'saga'}"
      ]
     },
     "execution_count": 49,
     "metadata": {},
     "output_type": "execute_result"
    }
   ],
   "source": [
    "# best paramaters for the logreg gridsearch\n",
    "\n",
    "gv_lg.best_params_"
   ]
  },
  {
   "cell_type": "code",
   "execution_count": 50,
   "metadata": {},
   "outputs": [
    {
     "name": "stderr",
     "output_type": "stream",
     "text": [
      "[Parallel(n_jobs=-2)]: Using backend ThreadingBackend with 11 concurrent workers.\n"
     ]
    },
    {
     "name": "stdout",
     "output_type": "stream",
     "text": [
      "convergence after 839 epochs took 34 seconds\n"
     ]
    },
    {
     "name": "stderr",
     "output_type": "stream",
     "text": [
      "[Parallel(n_jobs=-2)]: Done   1 tasks      | elapsed:   33.8s\n",
      "[Parallel(n_jobs=-2)]: Done   1 out of   1 | elapsed:   33.8s finished\n"
     ]
    },
    {
     "data": {
      "text/plain": [
       "LogisticRegression(C=0.5, class_weight='balanced', max_iter=1000, n_jobs=-2,\n",
       "                   random_state=2, solver='saga', verbose=10)"
      ]
     },
     "execution_count": 50,
     "metadata": {},
     "output_type": "execute_result"
    }
   ],
   "source": [
    "# run best param model to gain insight into this model\n",
    "\n",
    "lg_best = LogisticRegression(C=.5, penalty='l2', solver='saga', class_weight='balanced', random_state=2, n_jobs=-2, max_iter=1000, verbose=10)\n",
    "lg_best.fit(X_train, y_train)"
   ]
  },
  {
   "cell_type": "code",
   "execution_count": 51,
   "metadata": {
    "scrolled": true
   },
   "outputs": [
    {
     "data": {
      "text/plain": [
       "array([[-4.38230431e-02, -8.10662596e-02, -8.21282049e-02,\n",
       "        -1.15356367e-01, -1.29776887e-01, -2.08605230e-02,\n",
       "         3.11227730e-02,  4.39880614e-02, -4.74178491e-02,\n",
       "         1.70858843e-03, -6.76811423e-02, -1.25332463e-01,\n",
       "         4.98106684e-02, -6.67701932e-02, -3.68998865e-01,\n",
       "        -6.27637287e-02, -4.39393576e-02, -2.26449127e-01,\n",
       "         3.08199577e-01, -3.83489300e-01,  4.70582234e-02,\n",
       "        -2.86924376e-01, -3.69416528e-01, -6.09501082e-02,\n",
       "         6.12489691e-01,  1.34378794e-01, -6.64977169e-02,\n",
       "        -1.45815180e-03, -1.36736656e-01,  2.52079117e-02,\n",
       "         3.18482003e-01,  9.36316656e-02, -3.37837549e-02,\n",
       "        -2.98832785e-01, -5.90787981e-01, -2.39976815e+00,\n",
       "         0.00000000e+00, -1.14807500e-01, -1.33460842e-02,\n",
       "         1.96120838e-01,  2.34512153e-02, -2.66438567e-02,\n",
       "         1.79580753e-02,  4.45327503e-02, -2.47507762e-02,\n",
       "        -1.84383455e-02, -8.00335706e-02,  7.17980833e-03,\n",
       "        -8.11365765e-02]])"
      ]
     },
     "execution_count": 51,
     "metadata": {},
     "output_type": "execute_result"
    }
   ],
   "source": [
    "# best logreg coefficients\n",
    "\n",
    "lg_best.coef_"
   ]
  },
  {
   "cell_type": "code",
   "execution_count": 52,
   "metadata": {},
   "outputs": [
    {
     "name": "stdout",
     "output_type": "stream",
     "text": [
      "Training Precision:  0.2761759837684874\n",
      "Testing Precision:  0.28433190871703895\n",
      "\n",
      "\n",
      "\n",
      "Training Recall:  0.8080137467780989\n",
      "Testing Recall:  0.8072344322344323\n",
      "\n",
      "\n",
      "\n",
      "Training Accuracy:  0.5113200687466949\n",
      "Testing Accuracy:  0.5182688017450796\n",
      "\n",
      "\n",
      "\n",
      "Training F1-Score:  0.41165118083603597\n",
      "Testing F1-Score:  0.4205378973105134\n"
     ]
    }
   ],
   "source": [
    "# run bagging classifier on the best logreg, print results\n",
    "\n",
    "bc_lr = BaggingClassifier(LogisticRegression(C=.01, penalty='l1', solver='saga', class_weight='balanced', random_state=2, n_jobs=-2, max_iter=1000, verbose=10),\n",
    "                          n_estimators= 30, oob_score= True, n_jobs=-2)\n",
    "\n",
    "bc_lr.fit(X_train, y_train)\n",
    "y_train_pred = bc_lr.predict(X_train)\n",
    "y_test_pred = bc_lr.predict(X_test)\n",
    "\n",
    "\n",
    "\n",
    "\n",
    "print('Training Precision: ', precision_score(y_train, y_train_pred))\n",
    "print('Testing Precision: ', precision_score(y_test, y_test_pred))\n",
    "print('\\n\\n')\n",
    "\n",
    "print('Training Recall: ', recall_score(y_train, y_train_pred))\n",
    "print('Testing Recall: ', recall_score(y_test, y_test_pred))\n",
    "print('\\n\\n')\n",
    "\n",
    "print('Training Accuracy: ', accuracy_score(y_train, y_train_pred))\n",
    "print('Testing Accuracy: ', accuracy_score(y_test, y_test_pred))\n",
    "print('\\n\\n')\n",
    "\n",
    "print('Training F1-Score: ', f1_score(y_train, y_train_pred))\n",
    "print('Testing F1-Score: ', f1_score(y_test, y_test_pred))"
   ]
  },
  {
   "cell_type": "code",
   "execution_count": 31,
   "metadata": {},
   "outputs": [
    {
     "name": "stderr",
     "output_type": "stream",
     "text": [
      "/Users/binyaminzaetz/opt/anaconda3/lib/python3.7/site-packages/ipykernel_launcher.py:4: SettingWithCopyWarning: \n",
      "A value is trying to be set on a copy of a slice from a DataFrame.\n",
      "Try using .loc[row_indexer,col_indexer] = value instead\n",
      "\n",
      "See the caveats in the documentation: https://pandas.pydata.org/pandas-docs/stable/user_guide/indexing.html#returning-a-view-versus-a-copy\n",
      "  after removing the cwd from sys.path.\n",
      "/Users/binyaminzaetz/opt/anaconda3/lib/python3.7/site-packages/pandas/core/indexing.py:965: SettingWithCopyWarning: \n",
      "A value is trying to be set on a copy of a slice from a DataFrame.\n",
      "Try using .loc[row_indexer,col_indexer] = value instead\n",
      "\n",
      "See the caveats in the documentation: https://pandas.pydata.org/pandas-docs/stable/user_guide/indexing.html#returning-a-view-versus-a-copy\n",
      "  self.obj[item] = s\n",
      "/Users/binyaminzaetz/opt/anaconda3/lib/python3.7/site-packages/ipykernel_launcher.py:5: SettingWithCopyWarning: \n",
      "A value is trying to be set on a copy of a slice from a DataFrame.\n",
      "Try using .loc[row_indexer,col_indexer] = value instead\n",
      "\n",
      "See the caveats in the documentation: https://pandas.pydata.org/pandas-docs/stable/user_guide/indexing.html#returning-a-view-versus-a-copy\n",
      "  \"\"\"\n",
      "/Users/binyaminzaetz/opt/anaconda3/lib/python3.7/site-packages/pandas/core/indexing.py:965: SettingWithCopyWarning: \n",
      "A value is trying to be set on a copy of a slice from a DataFrame.\n",
      "Try using .loc[row_indexer,col_indexer] = value instead\n",
      "\n",
      "See the caveats in the documentation: https://pandas.pydata.org/pandas-docs/stable/user_guide/indexing.html#returning-a-view-versus-a-copy\n",
      "  self.obj[item] = s\n"
     ]
    }
   ],
   "source": [
    "# new split for the random forest model\n",
    "\n",
    "X_train, X_test, y_train, y_test = train_test_split(X, y, random_state = 4, test_size=0.25)\n",
    "\n",
    "\n",
    "# scale continues variables\n",
    "scaler = StandardScaler()\n",
    "X_train[con] = scaler.fit_transform(X_train[con])\n",
    "X_test[con] = scaler.transform(X_test[con])"
   ]
  },
  {
   "cell_type": "code",
   "execution_count": 32,
   "metadata": {},
   "outputs": [
    {
     "name": "stdout",
     "output_type": "stream",
     "text": [
      "Fitting 5 folds for each of 9 candidates, totalling 45 fits\n"
     ]
    },
    {
     "name": "stderr",
     "output_type": "stream",
     "text": [
      "[Parallel(n_jobs=-2)]: Using backend LokyBackend with 11 concurrent workers.\n",
      "[Parallel(n_jobs=-2)]: Done   3 tasks      | elapsed:   37.2s\n",
      "[Parallel(n_jobs=-2)]: Done  10 tasks      | elapsed:   39.1s\n",
      "[Parallel(n_jobs=-2)]: Done  19 tasks      | elapsed:  1.3min\n",
      "[Parallel(n_jobs=-2)]: Done  29 out of  45 | elapsed:  1.9min remaining:  1.0min\n",
      "[Parallel(n_jobs=-2)]: Done  34 out of  45 | elapsed:  2.5min remaining:   47.9s\n",
      "[Parallel(n_jobs=-2)]: Done  39 out of  45 | elapsed:  2.5min remaining:   23.2s\n",
      "[Parallel(n_jobs=-2)]: Done  45 out of  45 | elapsed:  2.8min finished\n"
     ]
    },
    {
     "name": "stdout",
     "output_type": "stream",
     "text": [
      "Training Precision:  0.5507087668065949\n",
      "Testing Precision:  0.4566080544526375\n",
      "\n",
      "\n",
      "\n",
      "Training Recall:  0.7070217917675545\n",
      "Testing Recall:  0.5528846153846154\n",
      "\n",
      "\n",
      "\n",
      "Training Accuracy:  0.8159703860391327\n",
      "Testing Accuracy:  0.7606960487829062\n",
      "\n",
      "\n",
      "\n",
      "Training F1-Score:  0.6191518467852257\n",
      "Testing F1-Score:  0.5001553277415346\n"
     ]
    }
   ],
   "source": [
    "# gridsearch random forest classifier, print results\n",
    "\n",
    "rfc = RandomForestClassifier(random_state =4, class_weight='balanced')\n",
    "\n",
    "params = {'max_depth':[15,17,19],\n",
    "         'min_samples_leaf':[50, 75, 100],\n",
    "         'max_features':[None]}\n",
    "\n",
    "gs_rfc = GridSearchCV(estimator=rfc, param_grid = params, cv=5, verbose=10, n_jobs=-2)\n",
    "\n",
    "gs_rfc.fit(X_train, y_train)\n",
    "y_train_pred = gs_rfc.predict(X_train)\n",
    "y_test_pred = gs_rfc.predict(X_test)\n",
    "\n",
    "\n",
    "print('Training Precision: ', precision_score(y_train, y_train_pred))\n",
    "print('Testing Precision: ', precision_score(y_test, y_test_pred))\n",
    "print('\\n\\n')\n",
    "\n",
    "print('Training Recall: ', recall_score(y_train, y_train_pred))\n",
    "print('Testing Recall: ', recall_score(y_test, y_test_pred))\n",
    "print('\\n\\n')\n",
    "\n",
    "print('Training Accuracy: ', accuracy_score(y_train, y_train_pred))\n",
    "print('Testing Accuracy: ', accuracy_score(y_test, y_test_pred))\n",
    "print('\\n\\n')\n",
    "\n",
    "print('Training F1-Score: ', f1_score(y_train, y_train_pred))\n",
    "print('Testing F1-Score: ', f1_score(y_test, y_test_pred))"
   ]
  },
  {
   "cell_type": "code",
   "execution_count": 33,
   "metadata": {},
   "outputs": [
    {
     "data": {
      "text/plain": [
       "{'max_depth': 19, 'max_features': None, 'min_samples_leaf': 50}"
      ]
     },
     "execution_count": 33,
     "metadata": {},
     "output_type": "execute_result"
    }
   ],
   "source": [
    "# get best params from gridsearch\n",
    "\n",
    "gs_rfc.best_params_"
   ]
  },
  {
   "cell_type": "code",
   "execution_count": 34,
   "metadata": {},
   "outputs": [],
   "source": [
    "# run best random forest \n",
    "\n",
    "rfc_best = RandomForestClassifier(n_jobs=-1, random_state =2, class_weight='balanced',max_depth=19, max_features=None, min_samples_leaf= 50)\n",
    "rfc_best.fit(X_train, y_train)"
   ]
  },
  {
   "cell_type": "code",
   "execution_count": 36,
   "metadata": {},
   "outputs": [
    {
     "data": {
      "text/plain": [
       "array([2.40549023e-01, 0.00000000e+00, 4.81836670e-01, 6.95184931e-02,\n",
       "       1.46643682e-02, 6.23346832e-03, 4.47544534e-03, 4.81738005e-02,\n",
       "       3.22878064e-02, 1.68655438e-02, 1.45353395e-02, 1.13991206e-03,\n",
       "       3.45474185e-02, 3.41414003e-02, 1.01222940e-03, 1.90817273e-05])"
      ]
     },
     "execution_count": 36,
     "metadata": {},
     "output_type": "execute_result"
    }
   ],
   "source": [
    "# inspect feature importance\n",
    "\n",
    "rfc_best.feature_importances_\n",
    "for name, importance in zip(X_train.columns, rfc_best.feature_importances_):\n",
    "    print(name, \"=\", importance)"
   ]
  },
  {
   "cell_type": "code",
   "execution_count": 42,
   "metadata": {},
   "outputs": [],
   "source": [
    "# run vating classifier on all models, print results\n",
    "\n",
    "voting_clf = VotingClassifier(estimators = [('rfc_best', rfc_best), ('lg_best', lg_best)],\n",
    "                             n_jobs=-2)\n",
    "\n",
    "voting_clf.fit(X_train, y_train)\n",
    "y_train_pred = voting_clf.predict(X_train)\n",
    "y_test_pred = voting_clf.predict(X_test)\n",
    "\n",
    "print('Training Precision: ', precision_score(y_train, y_train_pred))\n",
    "print('Testing Precision: ', precision_score(y_test, y_test_pred))\n",
    "print('\\n\\n')\n",
    "\n",
    "print('Training Recall: ', recall_score(y_train, y_train_pred))\n",
    "print('Testing Recall: ', recall_score(y_test, y_test_pred))\n",
    "print('\\n\\n')\n",
    "\n",
    "print('Training Accuracy: ', accuracy_score(y_train, y_train_pred))\n",
    "print('Testing Accuracy: ', accuracy_score(y_test, y_test_pred))\n",
    "print('\\n\\n')\n",
    "\n",
    "print('Training F1-Score: ', f1_score(y_train, y_train_pred))\n",
    "print('Testing F1-Score: ', f1_score(y_test, y_test_pred))"
   ]
  }
 ],
 "metadata": {
  "kernelspec": {
   "display_name": "Python 3",
   "language": "python",
   "name": "python3"
  },
  "language_info": {
   "codemirror_mode": {
    "name": "ipython",
    "version": 3
   },
   "file_extension": ".py",
   "mimetype": "text/x-python",
   "name": "python",
   "nbconvert_exporter": "python",
   "pygments_lexer": "ipython3",
   "version": "3.7.6"
  }
 },
 "nbformat": 4,
 "nbformat_minor": 4
}
