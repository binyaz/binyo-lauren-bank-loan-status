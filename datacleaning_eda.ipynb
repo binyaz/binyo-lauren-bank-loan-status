{
 "cells": [
  {
   "cell_type": "code",
   "execution_count": 1,
   "metadata": {},
   "outputs": [],
   "source": [
    "# importing libraries\n",
    "import pandas as pd\n",
    "import numpy as np\n",
    "import matplotlib.pyplot as plt\n",
    "import seaborn as sns\n",
    "pd.options.mode.chained_assignment = None "
   ]
  },
  {
   "cell_type": "code",
   "execution_count": 2,
   "metadata": {},
   "outputs": [],
   "source": [
    "# reading in the datasets \n",
    "train = pd.read_csv('credit_train.csv')\n",
    "test = pd.read_csv('credit_test.csv')"
   ]
  },
  {
   "cell_type": "code",
   "execution_count": 3,
   "metadata": {},
   "outputs": [
    {
     "data": {
      "text/html": [
       "<div>\n",
       "<style scoped>\n",
       "    .dataframe tbody tr th:only-of-type {\n",
       "        vertical-align: middle;\n",
       "    }\n",
       "\n",
       "    .dataframe tbody tr th {\n",
       "        vertical-align: top;\n",
       "    }\n",
       "\n",
       "    .dataframe thead th {\n",
       "        text-align: right;\n",
       "    }\n",
       "</style>\n",
       "<table border=\"1\" class=\"dataframe\">\n",
       "  <thead>\n",
       "    <tr style=\"text-align: right;\">\n",
       "      <th></th>\n",
       "      <th>Loan ID</th>\n",
       "      <th>Customer ID</th>\n",
       "      <th>Loan Status</th>\n",
       "      <th>Current Loan Amount</th>\n",
       "      <th>Term</th>\n",
       "      <th>Credit Score</th>\n",
       "      <th>Annual Income</th>\n",
       "      <th>Years in current job</th>\n",
       "      <th>Home Ownership</th>\n",
       "      <th>Purpose</th>\n",
       "      <th>Monthly Debt</th>\n",
       "      <th>Years of Credit History</th>\n",
       "      <th>Months since last delinquent</th>\n",
       "      <th>Number of Open Accounts</th>\n",
       "      <th>Number of Credit Problems</th>\n",
       "      <th>Current Credit Balance</th>\n",
       "      <th>Maximum Open Credit</th>\n",
       "      <th>Bankruptcies</th>\n",
       "      <th>Tax Liens</th>\n",
       "    </tr>\n",
       "  </thead>\n",
       "  <tbody>\n",
       "    <tr>\n",
       "      <td>0</td>\n",
       "      <td>14dd8831-6af5-400b-83ec-68e61888a048</td>\n",
       "      <td>981165ec-3274-42f5-a3b4-d104041a9ca9</td>\n",
       "      <td>Fully Paid</td>\n",
       "      <td>445412.0</td>\n",
       "      <td>Short Term</td>\n",
       "      <td>709.0</td>\n",
       "      <td>1167493.0</td>\n",
       "      <td>8 years</td>\n",
       "      <td>Home Mortgage</td>\n",
       "      <td>Home Improvements</td>\n",
       "      <td>5214.74</td>\n",
       "      <td>17.2</td>\n",
       "      <td>NaN</td>\n",
       "      <td>6.0</td>\n",
       "      <td>1.0</td>\n",
       "      <td>228190.0</td>\n",
       "      <td>416746.0</td>\n",
       "      <td>1.0</td>\n",
       "      <td>0.0</td>\n",
       "    </tr>\n",
       "    <tr>\n",
       "      <td>1</td>\n",
       "      <td>4771cc26-131a-45db-b5aa-537ea4ba5342</td>\n",
       "      <td>2de017a3-2e01-49cb-a581-08169e83be29</td>\n",
       "      <td>Fully Paid</td>\n",
       "      <td>262328.0</td>\n",
       "      <td>Short Term</td>\n",
       "      <td>NaN</td>\n",
       "      <td>NaN</td>\n",
       "      <td>10+ years</td>\n",
       "      <td>Home Mortgage</td>\n",
       "      <td>Debt Consolidation</td>\n",
       "      <td>33295.98</td>\n",
       "      <td>21.1</td>\n",
       "      <td>8.0</td>\n",
       "      <td>35.0</td>\n",
       "      <td>0.0</td>\n",
       "      <td>229976.0</td>\n",
       "      <td>850784.0</td>\n",
       "      <td>0.0</td>\n",
       "      <td>0.0</td>\n",
       "    </tr>\n",
       "    <tr>\n",
       "      <td>2</td>\n",
       "      <td>4eed4e6a-aa2f-4c91-8651-ce984ee8fb26</td>\n",
       "      <td>5efb2b2b-bf11-4dfd-a572-3761a2694725</td>\n",
       "      <td>Fully Paid</td>\n",
       "      <td>99999999.0</td>\n",
       "      <td>Short Term</td>\n",
       "      <td>741.0</td>\n",
       "      <td>2231892.0</td>\n",
       "      <td>8 years</td>\n",
       "      <td>Own Home</td>\n",
       "      <td>Debt Consolidation</td>\n",
       "      <td>29200.53</td>\n",
       "      <td>14.9</td>\n",
       "      <td>29.0</td>\n",
       "      <td>18.0</td>\n",
       "      <td>1.0</td>\n",
       "      <td>297996.0</td>\n",
       "      <td>750090.0</td>\n",
       "      <td>0.0</td>\n",
       "      <td>0.0</td>\n",
       "    </tr>\n",
       "    <tr>\n",
       "      <td>3</td>\n",
       "      <td>77598f7b-32e7-4e3b-a6e5-06ba0d98fe8a</td>\n",
       "      <td>e777faab-98ae-45af-9a86-7ce5b33b1011</td>\n",
       "      <td>Fully Paid</td>\n",
       "      <td>347666.0</td>\n",
       "      <td>Long Term</td>\n",
       "      <td>721.0</td>\n",
       "      <td>806949.0</td>\n",
       "      <td>3 years</td>\n",
       "      <td>Own Home</td>\n",
       "      <td>Debt Consolidation</td>\n",
       "      <td>8741.90</td>\n",
       "      <td>12.0</td>\n",
       "      <td>NaN</td>\n",
       "      <td>9.0</td>\n",
       "      <td>0.0</td>\n",
       "      <td>256329.0</td>\n",
       "      <td>386958.0</td>\n",
       "      <td>0.0</td>\n",
       "      <td>0.0</td>\n",
       "    </tr>\n",
       "    <tr>\n",
       "      <td>4</td>\n",
       "      <td>d4062e70-befa-4995-8643-a0de73938182</td>\n",
       "      <td>81536ad9-5ccf-4eb8-befb-47a4d608658e</td>\n",
       "      <td>Fully Paid</td>\n",
       "      <td>176220.0</td>\n",
       "      <td>Short Term</td>\n",
       "      <td>NaN</td>\n",
       "      <td>NaN</td>\n",
       "      <td>5 years</td>\n",
       "      <td>Rent</td>\n",
       "      <td>Debt Consolidation</td>\n",
       "      <td>20639.70</td>\n",
       "      <td>6.1</td>\n",
       "      <td>NaN</td>\n",
       "      <td>15.0</td>\n",
       "      <td>0.0</td>\n",
       "      <td>253460.0</td>\n",
       "      <td>427174.0</td>\n",
       "      <td>0.0</td>\n",
       "      <td>0.0</td>\n",
       "    </tr>\n",
       "  </tbody>\n",
       "</table>\n",
       "</div>"
      ],
      "text/plain": [
       "                                Loan ID                           Customer ID  \\\n",
       "0  14dd8831-6af5-400b-83ec-68e61888a048  981165ec-3274-42f5-a3b4-d104041a9ca9   \n",
       "1  4771cc26-131a-45db-b5aa-537ea4ba5342  2de017a3-2e01-49cb-a581-08169e83be29   \n",
       "2  4eed4e6a-aa2f-4c91-8651-ce984ee8fb26  5efb2b2b-bf11-4dfd-a572-3761a2694725   \n",
       "3  77598f7b-32e7-4e3b-a6e5-06ba0d98fe8a  e777faab-98ae-45af-9a86-7ce5b33b1011   \n",
       "4  d4062e70-befa-4995-8643-a0de73938182  81536ad9-5ccf-4eb8-befb-47a4d608658e   \n",
       "\n",
       "  Loan Status  Current Loan Amount        Term  Credit Score  Annual Income  \\\n",
       "0  Fully Paid             445412.0  Short Term         709.0      1167493.0   \n",
       "1  Fully Paid             262328.0  Short Term           NaN            NaN   \n",
       "2  Fully Paid           99999999.0  Short Term         741.0      2231892.0   \n",
       "3  Fully Paid             347666.0   Long Term         721.0       806949.0   \n",
       "4  Fully Paid             176220.0  Short Term           NaN            NaN   \n",
       "\n",
       "  Years in current job Home Ownership             Purpose  Monthly Debt  \\\n",
       "0              8 years  Home Mortgage   Home Improvements       5214.74   \n",
       "1            10+ years  Home Mortgage  Debt Consolidation      33295.98   \n",
       "2              8 years       Own Home  Debt Consolidation      29200.53   \n",
       "3              3 years       Own Home  Debt Consolidation       8741.90   \n",
       "4              5 years           Rent  Debt Consolidation      20639.70   \n",
       "\n",
       "   Years of Credit History  Months since last delinquent  \\\n",
       "0                     17.2                           NaN   \n",
       "1                     21.1                           8.0   \n",
       "2                     14.9                          29.0   \n",
       "3                     12.0                           NaN   \n",
       "4                      6.1                           NaN   \n",
       "\n",
       "   Number of Open Accounts  Number of Credit Problems  Current Credit Balance  \\\n",
       "0                      6.0                        1.0                228190.0   \n",
       "1                     35.0                        0.0                229976.0   \n",
       "2                     18.0                        1.0                297996.0   \n",
       "3                      9.0                        0.0                256329.0   \n",
       "4                     15.0                        0.0                253460.0   \n",
       "\n",
       "   Maximum Open Credit  Bankruptcies  Tax Liens  \n",
       "0             416746.0           1.0        0.0  \n",
       "1             850784.0           0.0        0.0  \n",
       "2             750090.0           0.0        0.0  \n",
       "3             386958.0           0.0        0.0  \n",
       "4             427174.0           0.0        0.0  "
      ]
     },
     "execution_count": 3,
     "metadata": {},
     "output_type": "execute_result"
    }
   ],
   "source": [
    "train.head()"
   ]
  },
  {
   "cell_type": "markdown",
   "metadata": {},
   "source": [
    "## Data Cleaning"
   ]
  },
  {
   "cell_type": "code",
   "execution_count": 4,
   "metadata": {},
   "outputs": [
    {
     "data": {
      "text/plain": [
       "Loan ID                           514\n",
       "Customer ID                       514\n",
       "Loan Status                       514\n",
       "Current Loan Amount               514\n",
       "Term                              514\n",
       "Credit Score                    19668\n",
       "Annual Income                   19668\n",
       "Years in current job             4736\n",
       "Home Ownership                    514\n",
       "Purpose                           514\n",
       "Monthly Debt                      514\n",
       "Years of Credit History           514\n",
       "Months since last delinquent    53655\n",
       "Number of Open Accounts           514\n",
       "Number of Credit Problems         514\n",
       "Current Credit Balance            514\n",
       "Maximum Open Credit               516\n",
       "Bankruptcies                      718\n",
       "Tax Liens                         524\n",
       "dtype: int64"
      ]
     },
     "execution_count": 4,
     "metadata": {},
     "output_type": "execute_result"
    }
   ],
   "source": [
    "# checking null values \n",
    "train.isna().sum()"
   ]
  },
  {
   "cell_type": "code",
   "execution_count": 5,
   "metadata": {},
   "outputs": [],
   "source": [
    "# assigning our target variable numeric values\n",
    "train['Loan Status'] = np.where(train['Loan Status']=='Fully Paid', 0, 1)"
   ]
  },
  {
   "cell_type": "code",
   "execution_count": 6,
   "metadata": {},
   "outputs": [],
   "source": [
    "# cleaning columns with nulls \n",
    "train['Months since last delinquent'] = np.where((train['Months since last delinquent'].isna() == True),0,train['Months since last delinquent'])\n",
    "train['Term'] = np.where(train['Term']=='Fully Paid', 0, 1)\n",
    "train['Annual Income'] = np.where((train['Annual Income'].isna() == True),0,train['Annual Income'])\n",
    "train['Credit Score'] = np.where((train['Credit Score'].isna() == True),0,train['Credit Score'])"
   ]
  },
  {
   "cell_type": "code",
   "execution_count": 7,
   "metadata": {},
   "outputs": [],
   "source": [
    "# filling nulls in years in current job column\n",
    "train['ych_range'] = pd.qcut(train['Years of Credit History'],5, labels=['one','two','three','four','five'])\n",
    "\n",
    "train['Years in current job'] = np.where(train['Years in current job'].isna()==True, train['ych_range'], train['Years in current job'])\n",
    "\n",
    "# input_ = {'10+ years':10, '2 years':2, '3 years':3, '< 1 year':0, '5 years':5, '1 year':1, '4 years':4,\n",
    "#           '6 years':6, '7 years':7, '8 years':8, '9 years':9, 'one':4, 'two':5, 'three':6, 'four':6, 'five':7}\n",
    "\n",
    "input_ = {'10+ years':'10+ years', '2 years':'2 years', '3 years':'3 years', '< 1 year':'< 1 year', \n",
    "          '5 years':'5 years', '1 year':'1 year', '4 years':'4 years', '6 years':'6 years', '7 years':'7 years',\n",
    "          '8 years':'8 years', '9 years':'9 years',\n",
    "          'one':'4 years', 'two':'5 years', 'three':'6 years', 'four':'6 years', 'five':'7 years'}\n",
    "\n",
    "train['Years in current job'] = train['Years in current job'].map(input_)"
   ]
  },
  {
   "cell_type": "code",
   "execution_count": 8,
   "metadata": {
    "scrolled": true
   },
   "outputs": [
    {
     "data": {
      "text/plain": [
       "Loan ID                         514\n",
       "Customer ID                     514\n",
       "Loan Status                       0\n",
       "Current Loan Amount             514\n",
       "Term                              0\n",
       "Credit Score                      0\n",
       "Annual Income                     0\n",
       "Years in current job            514\n",
       "Home Ownership                  514\n",
       "Purpose                         514\n",
       "Monthly Debt                    514\n",
       "Years of Credit History         514\n",
       "Months since last delinquent      0\n",
       "Number of Open Accounts         514\n",
       "Number of Credit Problems       514\n",
       "Current Credit Balance          514\n",
       "Maximum Open Credit             516\n",
       "Bankruptcies                    718\n",
       "Tax Liens                       524\n",
       "ych_range                       514\n",
       "dtype: int64"
      ]
     },
     "execution_count": 8,
     "metadata": {},
     "output_type": "execute_result"
    }
   ],
   "source": [
    "train.isna().sum()"
   ]
  },
  {
   "cell_type": "code",
   "execution_count": 9,
   "metadata": {},
   "outputs": [],
   "source": [
    "# subclass of people  had an abnormally high credit score (>850) and 100% default rate\n",
    "# we decided to divide these values by 10 since this issue was skewing our data"
   ]
  },
  {
   "cell_type": "code",
   "execution_count": 10,
   "metadata": {},
   "outputs": [],
   "source": [
    "# dividing credit score values by 10 if they are > 850 \n",
    "train['Credit Score'] = np.where(train['Credit Score']>850, train['Credit Score']/10, train['Credit Score'])"
   ]
  },
  {
   "cell_type": "code",
   "execution_count": 11,
   "metadata": {},
   "outputs": [],
   "source": [
    "# creating a new dataframe with our nulls dropped\n",
    "df = train.dropna()"
   ]
  },
  {
   "cell_type": "code",
   "execution_count": 12,
   "metadata": {},
   "outputs": [
    {
     "data": {
      "text/plain": [
       "(99794, 20)"
      ]
     },
     "execution_count": 12,
     "metadata": {},
     "output_type": "execute_result"
    }
   ],
   "source": [
    "df.shape"
   ]
  },
  {
   "cell_type": "code",
   "execution_count": 13,
   "metadata": {},
   "outputs": [
    {
     "data": {
      "text/plain": [
       "Loan ID                         0\n",
       "Customer ID                     0\n",
       "Loan Status                     0\n",
       "Current Loan Amount             0\n",
       "Term                            0\n",
       "Credit Score                    0\n",
       "Annual Income                   0\n",
       "Years in current job            0\n",
       "Home Ownership                  0\n",
       "Purpose                         0\n",
       "Monthly Debt                    0\n",
       "Years of Credit History         0\n",
       "Months since last delinquent    0\n",
       "Number of Open Accounts         0\n",
       "Number of Credit Problems       0\n",
       "Current Credit Balance          0\n",
       "Maximum Open Credit             0\n",
       "Bankruptcies                    0\n",
       "Tax Liens                       0\n",
       "ych_range                       0\n",
       "dtype: int64"
      ]
     },
     "execution_count": 13,
     "metadata": {},
     "output_type": "execute_result"
    }
   ],
   "source": [
    "df.isna().sum()"
   ]
  },
  {
   "cell_type": "markdown",
   "metadata": {},
   "source": [
    "## EDA"
   ]
  },
  {
   "cell_type": "markdown",
   "metadata": {},
   "source": [
    "#### percentage of defaulters"
   ]
  },
  {
   "cell_type": "code",
   "execution_count": 14,
   "metadata": {
    "scrolled": false
   },
   "outputs": [
    {
     "data": {
      "text/plain": [
       "0    77207\n",
       "1    22587\n",
       "Name: Loan Status, dtype: int64"
      ]
     },
     "execution_count": 14,
     "metadata": {},
     "output_type": "execute_result"
    }
   ],
   "source": [
    "df['Loan Status'].value_counts()"
   ]
  },
  {
   "cell_type": "code",
   "execution_count": 15,
   "metadata": {
    "scrolled": false
   },
   "outputs": [
    {
     "data": {
      "image/png": "[encoded data removed]",
      "text/plain": [
       "<Figure size 720x432 with 1 Axes>"
      ]
     },
     "metadata": {
      "needs_background": "light"
     },
     "output_type": "display_data"
    }
   ],
   "source": [
    "plt.figure(figsize = (10,6))\n",
    "y = [(77207/len(df)),(22587/len(df))]\n",
    "x_labels = ['Paid','Defaulted']\n",
    "sns.barplot(x_labels,y)\n",
    "sns.set(style='dark')\n",
    "plt.xlabel('Loan Status');\n",
    "plt.ylabel('% of People')\n",
    "plt.title('Loan Status Ratio', fontsize=18);"
   ]
  },
  {
   "cell_type": "markdown",
   "metadata": {},
   "source": [
    "#### income categories"
   ]
  },
  {
   "cell_type": "code",
   "execution_count": 16,
   "metadata": {},
   "outputs": [],
   "source": [
    "df2 = df"
   ]
  },
  {
   "cell_type": "code",
   "execution_count": 17,
   "metadata": {
    "scrolled": true
   },
   "outputs": [
    {
     "data": {
      "text/html": [
       "<div>\n",
       "<style scoped>\n",
       "    .dataframe tbody tr th:only-of-type {\n",
       "        vertical-align: middle;\n",
       "    }\n",
       "\n",
       "    .dataframe tbody tr th {\n",
       "        vertical-align: top;\n",
       "    }\n",
       "\n",
       "    .dataframe thead th {\n",
       "        text-align: right;\n",
       "    }\n",
       "</style>\n",
       "<table border=\"1\" class=\"dataframe\">\n",
       "  <thead>\n",
       "    <tr style=\"text-align: right;\">\n",
       "      <th></th>\n",
       "      <th>Loan Status</th>\n",
       "      <th>Current Loan Amount</th>\n",
       "      <th>Term</th>\n",
       "      <th>Credit Score</th>\n",
       "      <th>Annual Income</th>\n",
       "      <th>Monthly Debt</th>\n",
       "      <th>Years of Credit History</th>\n",
       "      <th>Months since last delinquent</th>\n",
       "      <th>Number of Open Accounts</th>\n",
       "      <th>Number of Credit Problems</th>\n",
       "      <th>Current Credit Balance</th>\n",
       "      <th>Maximum Open Credit</th>\n",
       "      <th>Bankruptcies</th>\n",
       "      <th>Tax Liens</th>\n",
       "    </tr>\n",
       "  </thead>\n",
       "  <tbody>\n",
       "    <tr>\n",
       "      <td>count</td>\n",
       "      <td>99794.000000</td>\n",
       "      <td>9.979400e+04</td>\n",
       "      <td>99794.0</td>\n",
       "      <td>99794.000000</td>\n",
       "      <td>9.979400e+04</td>\n",
       "      <td>99794.000000</td>\n",
       "      <td>99794.000000</td>\n",
       "      <td>99794.000000</td>\n",
       "      <td>99794.000000</td>\n",
       "      <td>99794.000000</td>\n",
       "      <td>9.979400e+04</td>\n",
       "      <td>9.979400e+04</td>\n",
       "      <td>99794.000000</td>\n",
       "      <td>99794.000000</td>\n",
       "    </tr>\n",
       "    <tr>\n",
       "      <td>mean</td>\n",
       "      <td>0.226336</td>\n",
       "      <td>1.175728e+07</td>\n",
       "      <td>1.0</td>\n",
       "      <td>579.108083</td>\n",
       "      <td>1.114381e+06</td>\n",
       "      <td>18486.117117</td>\n",
       "      <td>18.193694</td>\n",
       "      <td>16.357276</td>\n",
       "      <td>11.130910</td>\n",
       "      <td>0.168577</td>\n",
       "      <td>2.946602e+05</td>\n",
       "      <td>7.575265e+05</td>\n",
       "      <td>0.117743</td>\n",
       "      <td>0.029371</td>\n",
       "    </tr>\n",
       "    <tr>\n",
       "      <td>std</td>\n",
       "      <td>0.418461</td>\n",
       "      <td>3.177985e+07</td>\n",
       "      <td>0.0</td>\n",
       "      <td>282.993021</td>\n",
       "      <td>1.113000e+06</td>\n",
       "      <td>12172.465813</td>\n",
       "      <td>7.015261</td>\n",
       "      <td>23.023429</td>\n",
       "      <td>5.007745</td>\n",
       "      <td>0.483087</td>\n",
       "      <td>3.760668e+05</td>\n",
       "      <td>8.349533e+06</td>\n",
       "      <td>0.351427</td>\n",
       "      <td>0.258433</td>\n",
       "    </tr>\n",
       "    <tr>\n",
       "      <td>min</td>\n",
       "      <td>0.000000</td>\n",
       "      <td>1.542200e+04</td>\n",
       "      <td>1.0</td>\n",
       "      <td>0.000000</td>\n",
       "      <td>0.000000e+00</td>\n",
       "      <td>0.000000</td>\n",
       "      <td>3.600000</td>\n",
       "      <td>0.000000</td>\n",
       "      <td>0.000000</td>\n",
       "      <td>0.000000</td>\n",
       "      <td>0.000000e+00</td>\n",
       "      <td>0.000000e+00</td>\n",
       "      <td>0.000000</td>\n",
       "      <td>0.000000</td>\n",
       "    </tr>\n",
       "    <tr>\n",
       "      <td>25%</td>\n",
       "      <td>0.000000</td>\n",
       "      <td>1.796960e+05</td>\n",
       "      <td>1.0</td>\n",
       "      <td>669.000000</td>\n",
       "      <td>5.746218e+05</td>\n",
       "      <td>10228.317500</td>\n",
       "      <td>13.500000</td>\n",
       "      <td>0.000000</td>\n",
       "      <td>8.000000</td>\n",
       "      <td>0.000000</td>\n",
       "      <td>1.127698e+05</td>\n",
       "      <td>2.735260e+05</td>\n",
       "      <td>0.000000</td>\n",
       "      <td>0.000000</td>\n",
       "    </tr>\n",
       "    <tr>\n",
       "      <td>50%</td>\n",
       "      <td>0.000000</td>\n",
       "      <td>3.124770e+05</td>\n",
       "      <td>1.0</td>\n",
       "      <td>715.000000</td>\n",
       "      <td>1.018761e+06</td>\n",
       "      <td>16237.210000</td>\n",
       "      <td>16.900000</td>\n",
       "      <td>0.000000</td>\n",
       "      <td>10.000000</td>\n",
       "      <td>0.000000</td>\n",
       "      <td>2.099120e+05</td>\n",
       "      <td>4.678740e+05</td>\n",
       "      <td>0.000000</td>\n",
       "      <td>0.000000</td>\n",
       "    </tr>\n",
       "    <tr>\n",
       "      <td>75%</td>\n",
       "      <td>0.000000</td>\n",
       "      <td>5.250960e+05</td>\n",
       "      <td>1.0</td>\n",
       "      <td>735.000000</td>\n",
       "      <td>1.512884e+06</td>\n",
       "      <td>24025.215000</td>\n",
       "      <td>21.700000</td>\n",
       "      <td>29.000000</td>\n",
       "      <td>14.000000</td>\n",
       "      <td>0.000000</td>\n",
       "      <td>3.680680e+05</td>\n",
       "      <td>7.828260e+05</td>\n",
       "      <td>0.000000</td>\n",
       "      <td>0.000000</td>\n",
       "    </tr>\n",
       "    <tr>\n",
       "      <td>max</td>\n",
       "      <td>1.000000</td>\n",
       "      <td>1.000000e+08</td>\n",
       "      <td>1.0</td>\n",
       "      <td>751.000000</td>\n",
       "      <td>1.655574e+08</td>\n",
       "      <td>435843.280000</td>\n",
       "      <td>70.500000</td>\n",
       "      <td>176.000000</td>\n",
       "      <td>76.000000</td>\n",
       "      <td>15.000000</td>\n",
       "      <td>3.287897e+07</td>\n",
       "      <td>1.539738e+09</td>\n",
       "      <td>7.000000</td>\n",
       "      <td>15.000000</td>\n",
       "    </tr>\n",
       "  </tbody>\n",
       "</table>\n",
       "</div>"
      ],
      "text/plain": [
       "        Loan Status  Current Loan Amount     Term  Credit Score  \\\n",
       "count  99794.000000         9.979400e+04  99794.0  99794.000000   \n",
       "mean       0.226336         1.175728e+07      1.0    579.108083   \n",
       "std        0.418461         3.177985e+07      0.0    282.993021   \n",
       "min        0.000000         1.542200e+04      1.0      0.000000   \n",
       "25%        0.000000         1.796960e+05      1.0    669.000000   \n",
       "50%        0.000000         3.124770e+05      1.0    715.000000   \n",
       "75%        0.000000         5.250960e+05      1.0    735.000000   \n",
       "max        1.000000         1.000000e+08      1.0    751.000000   \n",
       "\n",
       "       Annual Income   Monthly Debt  Years of Credit History  \\\n",
       "count   9.979400e+04   99794.000000             99794.000000   \n",
       "mean    1.114381e+06   18486.117117                18.193694   \n",
       "std     1.113000e+06   12172.465813                 7.015261   \n",
       "min     0.000000e+00       0.000000                 3.600000   \n",
       "25%     5.746218e+05   10228.317500                13.500000   \n",
       "50%     1.018761e+06   16237.210000                16.900000   \n",
       "75%     1.512884e+06   24025.215000                21.700000   \n",
       "max     1.655574e+08  435843.280000                70.500000   \n",
       "\n",
       "       Months since last delinquent  Number of Open Accounts  \\\n",
       "count                  99794.000000             99794.000000   \n",
       "mean                      16.357276                11.130910   \n",
       "std                       23.023429                 5.007745   \n",
       "min                        0.000000                 0.000000   \n",
       "25%                        0.000000                 8.000000   \n",
       "50%                        0.000000                10.000000   \n",
       "75%                       29.000000                14.000000   \n",
       "max                      176.000000                76.000000   \n",
       "\n",
       "       Number of Credit Problems  Current Credit Balance  Maximum Open Credit  \\\n",
       "count               99794.000000            9.979400e+04         9.979400e+04   \n",
       "mean                    0.168577            2.946602e+05         7.575265e+05   \n",
       "std                     0.483087            3.760668e+05         8.349533e+06   \n",
       "min                     0.000000            0.000000e+00         0.000000e+00   \n",
       "25%                     0.000000            1.127698e+05         2.735260e+05   \n",
       "50%                     0.000000            2.099120e+05         4.678740e+05   \n",
       "75%                     0.000000            3.680680e+05         7.828260e+05   \n",
       "max                    15.000000            3.287897e+07         1.539738e+09   \n",
       "\n",
       "       Bankruptcies     Tax Liens  \n",
       "count  99794.000000  99794.000000  \n",
       "mean       0.117743      0.029371  \n",
       "std        0.351427      0.258433  \n",
       "min        0.000000      0.000000  \n",
       "25%        0.000000      0.000000  \n",
       "50%        0.000000      0.000000  \n",
       "75%        0.000000      0.000000  \n",
       "max        7.000000     15.000000  "
      ]
     },
     "execution_count": 17,
     "metadata": {},
     "output_type": "execute_result"
    }
   ],
   "source": [
    "df2.describe()"
   ]
  },
  {
   "cell_type": "code",
   "execution_count": 18,
   "metadata": {},
   "outputs": [],
   "source": [
    "df2['Income_Category'] = pd.qcut(df2['Annual Income'],5, labels=['One','Two','Three','Four','Five'])"
   ]
  },
  {
   "cell_type": "code",
   "execution_count": 19,
   "metadata": {
    "scrolled": true
   },
   "outputs": [
    {
     "data": {
      "text/plain": [
       "Two      19962\n",
       "One      19959\n",
       "Five     19958\n",
       "Four     19958\n",
       "Three    19957\n",
       "Name: Income_Category, dtype: int64"
      ]
     },
     "execution_count": 19,
     "metadata": {},
     "output_type": "execute_result"
    }
   ],
   "source": [
    "df2['Income_Category'].value_counts()"
   ]
  },
  {
   "cell_type": "code",
   "execution_count": 20,
   "metadata": {},
   "outputs": [
    {
     "data": {
      "text/plain": [
       "Income_Category\n",
       "One      0.282930\n",
       "Two      0.257890\n",
       "Three    0.227389\n",
       "Four     0.196362\n",
       "Five     0.167101\n",
       "Name: Loan Status, dtype: float64"
      ]
     },
     "execution_count": 20,
     "metadata": {},
     "output_type": "execute_result"
    }
   ],
   "source": [
    "df2.groupby(['Income_Category'])['Loan Status'].mean()"
   ]
  },
  {
   "cell_type": "code",
   "execution_count": 21,
   "metadata": {
    "scrolled": false
   },
   "outputs": [
    {
     "data": {
      "image/png": "[encoded data removed]",
      "text/plain": [
       "<Figure size 720x432 with 1 Axes>"
      ]
     },
     "metadata": {},
     "output_type": "display_data"
    }
   ],
   "source": [
    "y = df2.groupby(['Income_Category'])['Loan Status'].mean()\n",
    "plt.figure(figsize = (10,6))\n",
    "sns.barplot(y.index,y)\n",
    "sns.set(style='dark')\n",
    "plt.xlabel('Income Categories');\n",
    "plt.ylabel('Loan Status Ratio')\n",
    "plt.title('Loan Status by Income Categories', fontsize=18);"
   ]
  },
  {
   "cell_type": "code",
   "execution_count": 22,
   "metadata": {},
   "outputs": [],
   "source": [
    "# H0: there is no significant difference in loan status between income categories \n",
    "# H1: there is a significant difference in loan status between income categories "
   ]
  },
  {
   "cell_type": "code",
   "execution_count": 23,
   "metadata": {},
   "outputs": [],
   "source": [
    "income1 = df2[df2['Income_Category']=='One']\n",
    "income2 = df2[df2['Income_Category']=='Two']\n",
    "income3 = df2[df2['Income_Category']=='Three']\n",
    "income4 = df2[df2['Income_Category']=='Four'] \n",
    "income5 = df2[df2['Income_Category']=='Five']\n",
    "\n",
    "df_freq2=pd.DataFrame(columns=['one', 'two', 'three', 'four','five'])\n",
    "df_freq2['one']= income1.groupby('Loan Status')['Loan Status'].count()\n",
    "df_freq2['two']= income2.groupby('Loan Status')['Loan Status'].count()\n",
    "df_freq2['three']= income3.groupby('Loan Status')['Loan Status'].count()\n",
    "df_freq2['four']= income4.groupby('Loan Status')['Loan Status'].count()\n",
    "df_freq2['five']= income5.groupby('Loan Status')['Loan Status'].count()"
   ]
  },
  {
   "cell_type": "code",
   "execution_count": 24,
   "metadata": {
    "scrolled": true
   },
   "outputs": [
    {
     "name": "stdout",
     "output_type": "stream",
     "text": [
      "               one    two  three   four   five\n",
      "Loan Status                                   \n",
      "0            14312  14814  15419  16039  16623\n",
      "1             5647   5148   4538   3919   3335\n",
      "dof=4\n",
      "[[15441.55473275 15443.87572399 15440.00740525 15440.781069\n",
      "  15440.781069  ]\n",
      " [ 4517.44526725  4518.12427601  4516.99259475  4517.218931\n",
      "   4517.218931  ]]\n",
      "probability=0.950, critical=9.488, stat=981.010)\n",
      "Dependent (regject H0)\n",
      "signigicance=0.050, p=0.000,\n",
      "Dependent (reject H0)\n"
     ]
    }
   ],
   "source": [
    "from scipy.stats import chi2_contingency\n",
    "from scipy.stats import chi2\n",
    "# contingency table\n",
    "table = df_freq2\n",
    "print(table)\n",
    "stat, p, dof, expected = chi2_contingency(df_freq2)\n",
    "print('dof=%d' % dof)\n",
    "print(expected)\n",
    "#interpret test-statistic\n",
    "prob = 0.95\n",
    "critical = chi2.ppf(prob, dof)\n",
    "print('probability=%.3f, critical=%.3f, stat=%.3f)' % (prob, critical, stat))\n",
    "if abs(stat) >= critical:\n",
    "    print('Dependent (regject H0)')\n",
    "else:\n",
    "    print('Independent (fail to reject H0)')\n",
    "#interpret p-value\n",
    "alpha= 1-prob\n",
    "print('signigicance=%.3f, p=%.3f,' % (alpha, p))\n",
    "if p <= alpha:\n",
    "    print('Dependent (reject H0)')\n",
    "else: \n",
    "    print('Independent (fail to reject)')"
   ]
  },
  {
   "cell_type": "markdown",
   "metadata": {},
   "source": [
    "We reject the null, there is a significant difference in loan status between income categories."
   ]
  },
  {
   "cell_type": "markdown",
   "metadata": {},
   "source": [
    "#### home ownership"
   ]
  },
  {
   "cell_type": "code",
   "execution_count": 25,
   "metadata": {},
   "outputs": [],
   "source": [
    "df2 = df"
   ]
  },
  {
   "cell_type": "code",
   "execution_count": 26,
   "metadata": {},
   "outputs": [],
   "source": [
    "# converting home ownership to numerical value \n",
    "df2['Home Ownership'] = np.where(df2['Home Ownership']=='Rent', 1, df2['Home Ownership'])\n",
    "df2['Home Ownership'] = np.where(df2['Home Ownership']=='Home Mortgage', 2, df2['Home Ownership'])\n",
    "df2['Home Ownership'] = np.where(df2['Home Ownership']=='Own Home', 3, df2['Home Ownership'])\n",
    "df2['Home Ownership'] = np.where(df2['Home Ownership']=='HaveMortgage', 4, df2['Home Ownership'])"
   ]
  },
  {
   "cell_type": "code",
   "execution_count": 27,
   "metadata": {},
   "outputs": [
    {
     "data": {
      "image/png": "[encoded data removed]",
      "text/plain": [
       "<Figure size 720x432 with 1 Axes>"
      ]
     },
     "metadata": {},
     "output_type": "display_data"
    }
   ],
   "source": [
    "plt.figure(figsize = (10,6))\n",
    "y = df2.groupby(['Home Ownership'])['Loan Status'].mean()\n",
    "labels = ['Rent','Mortgage','Own Home','HaveMortgage']\n",
    "sns.barplot(labels,y)\n",
    "sns.set(style='dark')\n",
    "plt.xlabel('Home Ownership');\n",
    "plt.ylabel('Loan Status Ratio')\n",
    "plt.title('Loan Status by Home Ownership Categories', fontsize=18);"
   ]
  },
  {
   "cell_type": "markdown",
   "metadata": {},
   "source": [
    "#### purpose of loan "
   ]
  },
  {
   "cell_type": "code",
   "execution_count": 28,
   "metadata": {},
   "outputs": [
    {
     "data": {
      "image/png": "[encoded data removed]",
      "text/plain": [
       "<Figure size 720x432 with 1 Axes>"
      ]
     },
     "metadata": {},
     "output_type": "display_data"
    }
   ],
   "source": [
    "y = df2.groupby(['Purpose'])['Loan Status'].mean()\n",
    "plt.figure(figsize = (10,6))\n",
    "sns.barplot(y.index,y)\n",
    "sns.set(style='dark')\n",
    "plt.xlabel('Purpose of Loan')\n",
    "degrees = 70\n",
    "plt.xticks(rotation=degrees)\n",
    "plt.ylabel('Loan Status Ratio')\n",
    "plt.title('Loan Status by Purpose of Loan', fontsize=18);"
   ]
  },
  {
   "cell_type": "markdown",
   "metadata": {},
   "source": [
    "#### credit problems"
   ]
  },
  {
   "cell_type": "code",
   "execution_count": 29,
   "metadata": {},
   "outputs": [],
   "source": [
    "df2['Number of Credit Problems'] = np.where(df2['Number of Credit Problems']>=3.0,3.0,df2['Number of Credit Problems'])"
   ]
  },
  {
   "cell_type": "code",
   "execution_count": 30,
   "metadata": {
    "scrolled": false
   },
   "outputs": [
    {
     "data": {
      "text/plain": [
       "Number of Credit Problems\n",
       "0.0    0.226383\n",
       "1.0    0.223797\n",
       "2.0    0.237875\n",
       "3.0    0.246180\n",
       "Name: Loan Status, dtype: float64"
      ]
     },
     "execution_count": 30,
     "metadata": {},
     "output_type": "execute_result"
    }
   ],
   "source": [
    "df2.groupby(['Number of Credit Problems'])['Loan Status'].mean()"
   ]
  },
  {
   "cell_type": "code",
   "execution_count": 31,
   "metadata": {},
   "outputs": [
    {
     "data": {
      "image/png": "[encoded data removed]",
      "text/plain": [
       "<Figure size 720x432 with 1 Axes>"
      ]
     },
     "metadata": {},
     "output_type": "display_data"
    }
   ],
   "source": [
    "y = df2.groupby(['Number of Credit Problems'])['Loan Status'].mean()\n",
    "labels = ['0','1','2','> 3']\n",
    "plt.figure(figsize = (10,6))\n",
    "sns.barplot(labels,y)\n",
    "sns.set(style='dark')\n",
    "plt.xlabel('# of Credit Problems');\n",
    "plt.ylabel('Loan Status Ratio')\n",
    "plt.title('Loan Status by Credit Problems', fontsize=18);"
   ]
  },
  {
   "cell_type": "code",
   "execution_count": 32,
   "metadata": {},
   "outputs": [],
   "source": [
    "# H0: there is no significant difference in loan status between credit problem categories\n",
    "# H1: there is a significant different in loan status between credit problem categories"
   ]
  },
  {
   "cell_type": "code",
   "execution_count": 33,
   "metadata": {},
   "outputs": [],
   "source": [
    "df2['Number of Credit Problems'] = df2['Number of Credit Problems'].astype(int)"
   ]
  },
  {
   "cell_type": "code",
   "execution_count": 34,
   "metadata": {},
   "outputs": [],
   "source": [
    "credit0 = df2[df2['Number of Credit Problems']==0]\n",
    "credit1 = df2[df2['Number of Credit Problems']==1]\n",
    "credit2 = df2[df2['Number of Credit Problems']==2]\n",
    "credit3 = df2[df2['Number of Credit Problems']==3] \n",
    "\n",
    "df_freq3=pd.DataFrame(columns=['zero', 'one', 'two', 'three'])\n",
    "df_freq3['zero']= credit0.groupby('Loan Status')['Loan Status'].count()\n",
    "df_freq3['one']= credit1.groupby('Loan Status')['Loan Status'].count()\n",
    "df_freq3['two']= credit2.groupby('Loan Status')['Loan Status'].count()\n",
    "df_freq3['three']= credit3.groupby('Loan Status')['Loan Status'].count()"
   ]
  },
  {
   "cell_type": "code",
   "execution_count": 35,
   "metadata": {
    "scrolled": false
   },
   "outputs": [
    {
     "name": "stdout",
     "output_type": "stream",
     "text": [
      "              zero   one  two  three\n",
      "Loan Status                         \n",
      "0            66405  9368  990    444\n",
      "1            19432  2701  309    145\n",
      "dof=3\n",
      "[[66408.97507866  9337.3477664   1004.98920777   455.68794717]\n",
      " [19428.02492134  2731.6522336    294.01079223   133.31205283]]\n",
      "probability=0.950, critical=7.815, stat=2.758)\n",
      "Independent (fail to reject H0)\n",
      "signigicance=0.050, p=0.430,\n",
      "Independent (fail to reject)\n"
     ]
    }
   ],
   "source": [
    "from scipy.stats import chi2_contingency\n",
    "from scipy.stats import chi2\n",
    "# contingency table\n",
    "table = df_freq3\n",
    "print(table)\n",
    "stat, p, dof, expected = chi2_contingency(df_freq3)\n",
    "print('dof=%d' % dof)\n",
    "print(expected)\n",
    "#interpret test-statistic\n",
    "prob = 0.95\n",
    "critical = chi2.ppf(prob, dof)\n",
    "print('probability=%.3f, critical=%.3f, stat=%.3f)' % (prob, critical, stat))\n",
    "if abs(stat) >= critical:\n",
    "    print('Dependent (regject H0)')\n",
    "else:\n",
    "    print('Independent (fail to reject H0)')\n",
    "#interpret p-value\n",
    "alpha= 1-prob\n",
    "print('signigicance=%.3f, p=%.3f,' % (alpha, p))\n",
    "if p <= alpha:\n",
    "    print('Dependent (reject H0)')\n",
    "else: \n",
    "    print('Independent (fail to reject)')"
   ]
  },
  {
   "cell_type": "markdown",
   "metadata": {},
   "source": [
    "We fail to reject the null, there is no significant difference in loan status between credit problem categories. "
   ]
  },
  {
   "cell_type": "markdown",
   "metadata": {},
   "source": [
    "#### income and credit score"
   ]
  },
  {
   "cell_type": "code",
   "execution_count": 36,
   "metadata": {
    "scrolled": true
   },
   "outputs": [],
   "source": [
    "y = df2[df2['Annual Income'] <= 150000000]"
   ]
  },
  {
   "cell_type": "code",
   "execution_count": 37,
   "metadata": {
    "scrolled": true
   },
   "outputs": [],
   "source": [
    "x = y[(y[['Credit Score']]!= 0).all(axis=1)]"
   ]
  },
  {
   "cell_type": "code",
   "execution_count": 38,
   "metadata": {
    "scrolled": true
   },
   "outputs": [
    {
     "data": {
      "image/png": "[encoded data removed]",
      "text/plain": [
       "<Figure size 432x288 with 1 Axes>"
      ]
     },
     "metadata": {},
     "output_type": "display_data"
    }
   ],
   "source": [
    "import matplotlib.pyplot as plt\n",
    "import numpy as np\n",
    "# Some example data to display\n",
    "fig, ax = plt.subplots()\n",
    "ax.scatter(x['Credit Score'], x['Annual Income'])\n",
    "ax.set_title('Credit Score vs. Income')\n",
    "ax.set_xlabel('Credit Score')\n",
    "ax.set_ylabel('Annual Income ($)')\n",
    "# set tick style\n",
    "ax.ticklabel_format(axis='y', style='plain')\n"
   ]
  },
  {
   "cell_type": "markdown",
   "metadata": {},
   "source": [
    "#### credit score and loan status"
   ]
  },
  {
   "cell_type": "code",
   "execution_count": 39,
   "metadata": {},
   "outputs": [],
   "source": [
    "df2['Credit Score'] = df2['Credit Score'].astype(int)"
   ]
  },
  {
   "cell_type": "code",
   "execution_count": 40,
   "metadata": {},
   "outputs": [],
   "source": [
    "df2['Credit_Category'] = np.where(df2['Credit Score']<=575,1,2)"
   ]
  },
  {
   "cell_type": "code",
   "execution_count": 41,
   "metadata": {},
   "outputs": [
    {
     "data": {
      "image/png": "[encoded data removed]",
      "text/plain": [
       "<Figure size 720x432 with 1 Axes>"
      ]
     },
     "metadata": {},
     "output_type": "display_data"
    }
   ],
   "source": [
    "y = df2.groupby(['Credit_Category'])['Loan Status'].mean()\n",
    "labels = ['<= 575','> 575']\n",
    "plt.figure(figsize = (10,6))\n",
    "sns.barplot(labels,y)\n",
    "sns.set(style='dark')\n",
    "plt.xlabel('Credit Score');\n",
    "plt.ylabel('Loan Status Ratio')\n",
    "plt.title('Loan Status by Credit Score', fontsize=18);"
   ]
  },
  {
   "cell_type": "code",
   "execution_count": 42,
   "metadata": {},
   "outputs": [],
   "source": [
    "# H0: there is no significant difference in loan status between low and high credit score categories \n",
    "# H1: there is a significant difference in loan status between low and high credit score categories "
   ]
  },
  {
   "cell_type": "code",
   "execution_count": 43,
   "metadata": {},
   "outputs": [],
   "source": [
    "credit1 = df2[df2['Credit Score']<=575]\n",
    "credit2 = df2[df2['Credit Score']>575]\n",
    "\n",
    "df_freq4=pd.DataFrame(columns=['one', 'two'])\n",
    "df_freq4['one']= credit1.groupby('Loan Status')['Loan Status'].count()\n",
    "df_freq4['two']= credit2.groupby('Loan Status')['Loan Status'].count()"
   ]
  },
  {
   "cell_type": "code",
   "execution_count": 44,
   "metadata": {},
   "outputs": [
    {
     "name": "stdout",
     "output_type": "stream",
     "text": [
      "               one    two\n",
      "Loan Status              \n",
      "0            13695  63512\n",
      "1             5416  17171\n",
      "dof=1\n",
      "[[14785.48787502 62421.51212498]\n",
      " [ 4325.51212498 18261.48787502]]\n",
      "probability=0.950, critical=3.841, stat=439.113)\n",
      "Dependent (regject H0)\n",
      "signigicance=0.050, p=0.000,\n",
      "Dependent (reject H0)\n"
     ]
    }
   ],
   "source": [
    "from scipy.stats import chi2_contingency\n",
    "from scipy.stats import chi2\n",
    "# contingency table\n",
    "table = df_freq4\n",
    "print(table)\n",
    "stat, p, dof, expected = chi2_contingency(df_freq4)\n",
    "print('dof=%d' % dof)\n",
    "print(expected)\n",
    "#interpret test-statistic\n",
    "prob = 0.95\n",
    "critical = chi2.ppf(prob, dof)\n",
    "print('probability=%.3f, critical=%.3f, stat=%.3f)' % (prob, critical, stat))\n",
    "if abs(stat) >= critical:\n",
    "    print('Dependent (regject H0)')\n",
    "else:\n",
    "    print('Independent (fail to reject H0)')\n",
    "#interpret p-value\n",
    "alpha= 1-prob\n",
    "print('signigicance=%.3f, p=%.3f,' % (alpha, p))\n",
    "if p <= alpha:\n",
    "    print('Dependent (reject H0)')\n",
    "else: \n",
    "    print('Independent (fail to reject)')"
   ]
  },
  {
   "cell_type": "markdown",
   "metadata": {},
   "source": [
    "We reject the null, there is a significant difference in loan status between low and high credit score categories. "
   ]
  }
 ],
 "metadata": {
  "kernelspec": {
   "display_name": "Python 3",
   "language": "python",
   "name": "python3"
  },
  "language_info": {
   "codemirror_mode": {
    "name": "ipython",
    "version": 3
   },
   "file_extension": ".py",
   "mimetype": "text/x-python",
   "name": "python",
   "nbconvert_exporter": "python",
   "pygments_lexer": "ipython3",
   "version": "3.7.4"
  }
 },
 "nbformat": 4,
 "nbformat_minor": 2
}
